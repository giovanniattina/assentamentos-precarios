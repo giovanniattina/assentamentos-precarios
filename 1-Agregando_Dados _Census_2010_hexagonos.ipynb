{
 "cells": [
  {
   "cell_type": "code",
   "execution_count": 1,
   "metadata": {},
   "outputs": [],
   "source": [
    "import geopandas as gpd\n",
    "import pandas as pd"
   ]
  },
  {
   "cell_type": "code",
   "execution_count": 2,
   "metadata": {},
   "outputs": [],
   "source": [
    "DEFAULT_CRS = \"EPSG:4326\""
   ]
  },
  {
   "cell_type": "code",
   "execution_count": 3,
   "metadata": {},
   "outputs": [],
   "source": [
    "censu_gpd = gpd.read_file(\"data/SC2010_CEM_RMSAO_V4\")"
   ]
  },
  {
   "cell_type": "code",
   "execution_count": null,
   "metadata": {},
   "outputs": [],
   "source": [
    "censu_gpd.head()"
   ]
  },
  {
   "cell_type": "markdown",
   "metadata": {},
   "source": [
    "Read tables values"
   ]
  },
  {
   "cell_type": "code",
   "execution_count": 5,
   "metadata": {},
   "outputs": [],
   "source": [
    "variables = pd.read_excel(\"data/SC2010_CEM_RMSAO_V4/SC2010_CEM_RMSAO.xlsx\", usecols=[\"CODSETOR\", \"CODSETTX\", \"COD_RM\", \"NOM_RM\", \"D1_012\", \"D1_017\", \"D1_035\", \"D1_044\"])"
   ]
  },
  {
   "cell_type": "code",
   "execution_count": null,
   "metadata": {},
   "outputs": [],
   "source": [
    "variables.head()"
   ]
  },
  {
   "cell_type": "code",
   "execution_count": null,
   "metadata": {},
   "outputs": [],
   "source": [
    "variables[variables['CODSETOR'] == 355030832000011]"
   ]
  },
  {
   "cell_type": "code",
   "execution_count": null,
   "metadata": {},
   "outputs": [],
   "source": [
    "variables.dtypes"
   ]
  },
  {
   "cell_type": "code",
   "execution_count": 9,
   "metadata": {},
   "outputs": [],
   "source": [
    "censu_gpd = (censu_gpd\n",
    "             .join(variables[['CODSETOR', 'D1_012', 'D1_017', 'D1_035', 'D1_044']].set_index(\"CODSETOR\"),\n",
    "                    how='left',\n",
    "                    on='SC_2010'\n",
    "                )\n",
    "            )"
   ]
  },
  {
   "cell_type": "markdown",
   "metadata": {},
   "source": [
    "Criar variáveis com as densidades das variavies de acesso "
   ]
  },
  {
   "cell_type": "code",
   "execution_count": 10,
   "metadata": {},
   "outputs": [],
   "source": [
    "censu_gpd[\"area_poly\"] = (\n",
    "    censu_gpd\n",
    "    .geometry\n",
    "    .to_crs(\"EPSG:5641\")\n",
    "    .area) # Area may be invalid for a geographic CRS using degrees as units; use GeoSeries.to_crs() to project geometries to a planar CRS before using this function.\n"
   ]
  },
  {
   "cell_type": "code",
   "execution_count": 11,
   "metadata": {},
   "outputs": [],
   "source": [
    "def calculate_var_density(gpd, var, area):\n",
    "    return gpd[var]/gpd[area]"
   ]
  },
  {
   "cell_type": "code",
   "execution_count": 12,
   "metadata": {},
   "outputs": [],
   "source": [
    "censu_gpd[\"D1_012_d\"] = calculate_var_density(censu_gpd, 'D1_012', 'area_poly')\n",
    "censu_gpd[\"D1_017_d\"] = calculate_var_density(censu_gpd, 'D1_017', 'area_poly')\n",
    "censu_gpd[\"D1_035_d\"] = calculate_var_density(censu_gpd, 'D1_035', 'area_poly')\n",
    "censu_gpd[\"D1_044_d\"] = calculate_var_density(censu_gpd, 'D1_044', 'area_poly')\n"
   ]
  },
  {
   "cell_type": "code",
   "execution_count": null,
   "metadata": {},
   "outputs": [],
   "source": [
    "censu_gpd.head()"
   ]
  },
  {
   "cell_type": "markdown",
   "metadata": {},
   "source": [
    "Colunas de interesse"
   ]
  },
  {
   "cell_type": "code",
   "execution_count": 14,
   "metadata": {},
   "outputs": [],
   "source": [
    "censu_gpd = censu_gpd[['ID', 'SC_2010', 'geometry', 'D1_012_d', 'D1_017_d', 'D1_035_d', 'D1_044_d']]"
   ]
  },
  {
   "cell_type": "markdown",
   "metadata": {},
   "source": [
    "# Lendo H3 "
   ]
  },
  {
   "cell_type": "code",
   "execution_count": 15,
   "metadata": {},
   "outputs": [],
   "source": [
    "hex_sp = gpd.read_file(\"data/shapeFiles/GRIDS_H3_SP_RES10\") "
   ]
  },
  {
   "cell_type": "code",
   "execution_count": null,
   "metadata": {},
   "outputs": [],
   "source": [
    "hex_sp.head()"
   ]
  },
  {
   "cell_type": "markdown",
   "metadata": {},
   "source": [
    "# Intersect data"
   ]
  },
  {
   "cell_type": "code",
   "execution_count": 17,
   "metadata": {},
   "outputs": [],
   "source": [
    "if censu_gpd.crs != DEFAULT_CRS:\n",
    "    censu_gpd = censu_gpd.to_crs(DEFAULT_CRS)\n",
    "if hex_sp.crs != DEFAULT_CRS:\n",
    "    hex_sp = hex_sp.to_crs(DEFAULT_CRS)"
   ]
  },
  {
   "cell_type": "code",
   "execution_count": 18,
   "metadata": {},
   "outputs": [],
   "source": [
    "censu_join_h3 =  censu_gpd.overlay(hex_sp[['id_hex', 'geometry']], how='intersection')\n"
   ]
  },
  {
   "cell_type": "markdown",
   "metadata": {},
   "source": [
    "Gerar qnt de cada variável referente a área de recorte do censu nos hexagonos"
   ]
  },
  {
   "cell_type": "code",
   "execution_count": 19,
   "metadata": {},
   "outputs": [],
   "source": [
    "censu_join_h3[\"area_poly\"] = (\n",
    "    censu_join_h3\n",
    "    .geometry\n",
    "    .to_crs(\"EPSG:5641\")\n",
    "    .area) # Area may be invalid for a geographic CRS using degrees as units; use GeoSeries.to_crs() to project geometries to a planar CRS before using this function.\n",
    "\n",
    "censu_join_h3[\"D1_012_d\"] = censu_join_h3[\"area_poly\"] * censu_join_h3[\"D1_012_d\"]\n",
    "censu_join_h3[\"D1_017_d\"] = censu_join_h3[\"area_poly\"] * censu_join_h3[\"D1_017_d\"]\n",
    "censu_join_h3[\"D1_035_d\"] = censu_join_h3[\"area_poly\"] * censu_join_h3[\"D1_035_d\"]\n",
    "censu_join_h3[\"D1_044_d\"] = censu_join_h3[\"area_poly\"] * censu_join_h3[\"D1_044_d\"]\n",
    "\n"
   ]
  },
  {
   "cell_type": "code",
   "execution_count": null,
   "metadata": {},
   "outputs": [],
   "source": [
    "censu_join_h3[censu_join_h3[\"SC_2010\"] == 355030832000011]"
   ]
  },
  {
   "cell_type": "code",
   "execution_count": null,
   "metadata": {},
   "outputs": [],
   "source": [
    "censu_join_h3.head()"
   ]
  },
  {
   "cell_type": "code",
   "execution_count": 22,
   "metadata": {},
   "outputs": [],
   "source": [
    "agg_variables_by_hex = censu_join_h3.groupby(['id_hex']).agg({\n",
    "    \"D1_012_d\": ['sum'],\n",
    "    \"D1_017_d\": ['sum'],\n",
    "    \"D1_035_d\": ['sum'],\n",
    "    \"D1_044_d\": ['sum'],\n",
    "\n",
    "}).reset_index()"
   ]
  },
  {
   "cell_type": "code",
   "execution_count": 23,
   "metadata": {},
   "outputs": [],
   "source": [
    "agg_variables_by_hex.columns = ['_'.join(col).strip() for col in agg_variables_by_hex.columns.values if col != 'id_hex']\n"
   ]
  },
  {
   "cell_type": "code",
   "execution_count": null,
   "metadata": {},
   "outputs": [],
   "source": [
    "agg_variables_by_hex.head()"
   ]
  },
  {
   "cell_type": "code",
   "execution_count": 25,
   "metadata": {},
   "outputs": [],
   "source": [
    "agg_variables_by_hex[\"D1_012_d_sum\"] = agg_variables_by_hex[\"D1_012_d_sum\"].fillna(0)\n",
    "agg_variables_by_hex[\"D1_017_d_sum\"] = agg_variables_by_hex[\"D1_017_d_sum\"].fillna(0)\n",
    "agg_variables_by_hex[\"D1_035_d_sum\"] = agg_variables_by_hex[\"D1_035_d_sum\"].fillna(0)\n",
    "agg_variables_by_hex[\"D1_044_d_sum\"] = agg_variables_by_hex[\"D1_044_d_sum\"].fillna(0)"
   ]
  },
  {
   "cell_type": "code",
   "execution_count": null,
   "metadata": {},
   "outputs": [],
   "source": [
    "agg_variables_by_hex[agg_variables_by_hex[\"id_hex_\"] == '8aa810000007fff']"
   ]
  },
  {
   "cell_type": "code",
   "execution_count": null,
   "metadata": {},
   "outputs": [],
   "source": [
    "agg_variables_by_hex.isna().sum()"
   ]
  },
  {
   "cell_type": "code",
   "execution_count": 32,
   "metadata": {},
   "outputs": [],
   "source": [
    "hex_censu_final = hex_sp.join(agg_variables_by_hex.set_index('id_hex_'), how='left', on='id_hex')"
   ]
  },
  {
   "cell_type": "code",
   "execution_count": null,
   "metadata": {},
   "outputs": [],
   "source": [
    "hex_censu_final.head()"
   ]
  },
  {
   "cell_type": "markdown",
   "metadata": {},
   "source": []
  },
  {
   "cell_type": "code",
   "execution_count": 34,
   "metadata": {},
   "outputs": [],
   "source": [
    "#hex_censu_final[\"id_hex\"] = hex_censu_final[\"id_hex\"].astype(int) #geopandas as a bug with fid https://github.com/geopandas/geopandas/issues/1035\n",
    "#hex_censu_final.drop(\"fid\", inplace=True, axis=1)\n",
    "hex_censu_final[\"D1_012_d_sum\"] = hex_censu_final[\"D1_012_d_sum\"].round()\n",
    "hex_censu_final[\"D1_017_d_sum\"] = hex_censu_final[\"D1_017_d_sum\"].round()\n",
    "hex_censu_final[\"D1_035_d_sum\"] = hex_censu_final[\"D1_035_d_sum\"].round()\n",
    "hex_censu_final[\"D1_044_d_sum\"] = hex_censu_final[\"D1_044_d_sum\"].round()"
   ]
  },
  {
   "cell_type": "code",
   "execution_count": 35,
   "metadata": {},
   "outputs": [],
   "source": [
    "hex_censu_final.to_file(\"data/WGS84_hex_census_2010.gpkg\", driver=\"GPKG\")"
   ]
  }
 ],
 "metadata": {
  "kernelspec": {
   "display_name": "scriptsMestrado",
   "language": "python",
   "name": "python3"
  },
  "language_info": {
   "codemirror_mode": {
    "name": "ipython",
    "version": 3
   },
   "file_extension": ".py",
   "mimetype": "text/x-python",
   "name": "python",
   "nbconvert_exporter": "python",
   "pygments_lexer": "ipython3",
   "version": "3.12.4"
  }
 },
 "nbformat": 4,
 "nbformat_minor": 2
}
