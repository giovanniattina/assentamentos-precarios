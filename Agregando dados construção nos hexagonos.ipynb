{
 "cells": [
  {
   "cell_type": "code",
   "execution_count": 1,
   "metadata": {},
   "outputs": [],
   "source": [
    "import geopandas as gpd \n",
    "import pandas as pd\n",
    "\n",
    "from shapely import wkt"
   ]
  },
  {
   "cell_type": "code",
   "execution_count": 2,
   "metadata": {},
   "outputs": [],
   "source": [
    "pd.options.display.max_columns = None\n",
    "pd.options.display.max_rows = None"
   ]
  },
  {
   "cell_type": "code",
   "execution_count": 3,
   "metadata": {},
   "outputs": [],
   "source": [
    "DEFAULT_CRS = \"EPSG:4326\""
   ]
  },
  {
   "cell_type": "markdown",
   "metadata": {},
   "source": [
    "# read building data\n",
    "O poligono utilizado para realizar download de dados de construção do Google Open Building foi: POLYGON((-46.92166552116743 -23.35298450738664,-46.19244799187055 -23.35298450738664,-46.19244799187055 -23.899033072097712,-46.92166552116743 -23.899033072097712,-46.92166552116743 -23.35298450738664))"
   ]
  },
  {
   "cell_type": "code",
   "execution_count": 4,
   "metadata": {},
   "outputs": [],
   "source": [
    "\n",
    "# buildings_sp = gpd.read_parquet(\"spBuilding.geoparquet\") # lendo arquivo do OverTure\n",
    "builds_csv = pd.read_csv(\"data/open_buildings_v3_polygons_sp.csv\")\n"
   ]
  },
  {
   "cell_type": "code",
   "execution_count": 5,
   "metadata": {},
   "outputs": [],
   "source": [
    "builds_csv['geometry'] = builds_csv['geometry'].apply(wkt.loads)\n",
    "buildings_sp = gpd.GeoDataFrame(builds_csv, geometry='geometry', crs=DEFAULT_CRS)\n"
   ]
  },
  {
   "cell_type": "code",
   "execution_count": 10,
   "metadata": {},
   "outputs": [
    {
     "data": {
      "text/html": [
       "<div>\n",
       "<style scoped>\n",
       "    .dataframe tbody tr th:only-of-type {\n",
       "        vertical-align: middle;\n",
       "    }\n",
       "\n",
       "    .dataframe tbody tr th {\n",
       "        vertical-align: top;\n",
       "    }\n",
       "\n",
       "    .dataframe thead th {\n",
       "        text-align: right;\n",
       "    }\n",
       "</style>\n",
       "<table border=\"1\" class=\"dataframe\">\n",
       "  <thead>\n",
       "    <tr style=\"text-align: right;\">\n",
       "      <th></th>\n",
       "      <th>latitude</th>\n",
       "      <th>longitude</th>\n",
       "      <th>area_in_meters</th>\n",
       "      <th>confidence</th>\n",
       "      <th>geometry</th>\n",
       "      <th>full_plus_code</th>\n",
       "    </tr>\n",
       "  </thead>\n",
       "  <tbody>\n",
       "    <tr>\n",
       "      <th>0</th>\n",
       "      <td>-23.536363</td>\n",
       "      <td>-46.198169</td>\n",
       "      <td>339.8561</td>\n",
       "      <td>0.8957</td>\n",
       "      <td>POLYGON ((-46.19806 -23.53642, -46.19811 -23.5...</td>\n",
       "      <td>588MFR72+FP4G</td>\n",
       "    </tr>\n",
       "    <tr>\n",
       "      <th>1</th>\n",
       "      <td>-23.552310</td>\n",
       "      <td>-46.199052</td>\n",
       "      <td>28.7468</td>\n",
       "      <td>0.6921</td>\n",
       "      <td>POLYGON ((-46.19902 -23.55233, -46.19903 -23.5...</td>\n",
       "      <td>588MCRX2+39GF</td>\n",
       "    </tr>\n",
       "    <tr>\n",
       "      <th>2</th>\n",
       "      <td>-23.534467</td>\n",
       "      <td>-46.205638</td>\n",
       "      <td>215.6351</td>\n",
       "      <td>0.9199</td>\n",
       "      <td>POLYGON ((-46.20555 -23.53452, -46.20557 -23.5...</td>\n",
       "      <td>588MFQ8V+6P98</td>\n",
       "    </tr>\n",
       "    <tr>\n",
       "      <th>3</th>\n",
       "      <td>-23.507791</td>\n",
       "      <td>-46.198459</td>\n",
       "      <td>58.1231</td>\n",
       "      <td>0.6945</td>\n",
       "      <td>POLYGON ((-46.19841 -23.50781, -46.19844 -23.5...</td>\n",
       "      <td>588MFRR2+VJM7</td>\n",
       "    </tr>\n",
       "    <tr>\n",
       "      <th>4</th>\n",
       "      <td>-23.558505</td>\n",
       "      <td>-46.208676</td>\n",
       "      <td>122.6622</td>\n",
       "      <td>0.7789</td>\n",
       "      <td>POLYGON ((-46.20863 -23.55849, -46.20863 -23.5...</td>\n",
       "      <td>588MCQRR+HGWV</td>\n",
       "    </tr>\n",
       "  </tbody>\n",
       "</table>\n",
       "</div>"
      ],
      "text/plain": [
       "    latitude  longitude  area_in_meters  confidence  \\\n",
       "0 -23.536363 -46.198169        339.8561      0.8957   \n",
       "1 -23.552310 -46.199052         28.7468      0.6921   \n",
       "2 -23.534467 -46.205638        215.6351      0.9199   \n",
       "3 -23.507791 -46.198459         58.1231      0.6945   \n",
       "4 -23.558505 -46.208676        122.6622      0.7789   \n",
       "\n",
       "                                            geometry full_plus_code  \n",
       "0  POLYGON ((-46.19806 -23.53642, -46.19811 -23.5...  588MFR72+FP4G  \n",
       "1  POLYGON ((-46.19902 -23.55233, -46.19903 -23.5...  588MCRX2+39GF  \n",
       "2  POLYGON ((-46.20555 -23.53452, -46.20557 -23.5...  588MFQ8V+6P98  \n",
       "3  POLYGON ((-46.19841 -23.50781, -46.19844 -23.5...  588MFRR2+VJM7  \n",
       "4  POLYGON ((-46.20863 -23.55849, -46.20863 -23.5...  588MCQRR+HGWV  "
      ]
     },
     "execution_count": 10,
     "metadata": {},
     "output_type": "execute_result"
    }
   ],
   "source": [
    "#buildings_sp.rename(columns={'area_in_meters':'area'}, inplace=True)\n",
    "buildings_sp.head()"
   ]
  },
  {
   "cell_type": "markdown",
   "metadata": {},
   "source": [
    "# Reading h2 "
   ]
  },
  {
   "cell_type": "code",
   "execution_count": 6,
   "metadata": {},
   "outputs": [],
   "source": [
    "hex_sp = gpd.read_file(\"data/shapeFiles/wgs84_hex_grid_sp_v2\")"
   ]
  },
  {
   "cell_type": "code",
   "execution_count": 7,
   "metadata": {},
   "outputs": [
    {
     "data": {
      "text/html": [
       "<div>\n",
       "<style scoped>\n",
       "    .dataframe tbody tr th:only-of-type {\n",
       "        vertical-align: middle;\n",
       "    }\n",
       "\n",
       "    .dataframe tbody tr th {\n",
       "        vertical-align: top;\n",
       "    }\n",
       "\n",
       "    .dataframe thead th {\n",
       "        text-align: right;\n",
       "    }\n",
       "</style>\n",
       "<table border=\"1\" class=\"dataframe\">\n",
       "  <thead>\n",
       "    <tr style=\"text-align: right;\">\n",
       "      <th></th>\n",
       "      <th>fid</th>\n",
       "      <th>id_hex</th>\n",
       "      <th>abbrev_mun</th>\n",
       "      <th>name_muni</th>\n",
       "      <th>code_muni</th>\n",
       "      <th>geometry</th>\n",
       "    </tr>\n",
       "  </thead>\n",
       "  <tbody>\n",
       "    <tr>\n",
       "      <th>0</th>\n",
       "      <td>2563.0</td>\n",
       "      <td>89a81009a8bffff</td>\n",
       "      <td>spo</td>\n",
       "      <td>Sao Paulo</td>\n",
       "      <td>3550308.0</td>\n",
       "      <td>POLYGON ((-46.43596 -23.58661, -46.43800 -23.5...</td>\n",
       "    </tr>\n",
       "    <tr>\n",
       "      <th>1</th>\n",
       "      <td>2564.0</td>\n",
       "      <td>89a8108dca7ffff</td>\n",
       "      <td>spo</td>\n",
       "      <td>Sao Paulo</td>\n",
       "      <td>3550308.0</td>\n",
       "      <td>POLYGON ((-46.77886 -23.89706, -46.78089 -23.8...</td>\n",
       "    </tr>\n",
       "    <tr>\n",
       "      <th>2</th>\n",
       "      <td>2565.0</td>\n",
       "      <td>89a81015a8bffff</td>\n",
       "      <td>spo</td>\n",
       "      <td>Sao Paulo</td>\n",
       "      <td>3550308.0</td>\n",
       "      <td>POLYGON ((-46.74000 -23.72290, -46.74204 -23.7...</td>\n",
       "    </tr>\n",
       "    <tr>\n",
       "      <th>3</th>\n",
       "      <td>2566.0</td>\n",
       "      <td>89a810019d7ffff</td>\n",
       "      <td>spo</td>\n",
       "      <td>Sao Paulo</td>\n",
       "      <td>3550308.0</td>\n",
       "      <td>POLYGON ((-46.62778 -23.65457, -46.62982 -23.6...</td>\n",
       "    </tr>\n",
       "    <tr>\n",
       "      <th>4</th>\n",
       "      <td>2567.0</td>\n",
       "      <td>89a8100d9d7ffff</td>\n",
       "      <td>spo</td>\n",
       "      <td>Sao Paulo</td>\n",
       "      <td>3550308.0</td>\n",
       "      <td>POLYGON ((-46.62335 -23.50435, -46.62539 -23.5...</td>\n",
       "    </tr>\n",
       "  </tbody>\n",
       "</table>\n",
       "</div>"
      ],
      "text/plain": [
       "      fid           id_hex abbrev_mun  name_muni  code_muni  \\\n",
       "0  2563.0  89a81009a8bffff        spo  Sao Paulo  3550308.0   \n",
       "1  2564.0  89a8108dca7ffff        spo  Sao Paulo  3550308.0   \n",
       "2  2565.0  89a81015a8bffff        spo  Sao Paulo  3550308.0   \n",
       "3  2566.0  89a810019d7ffff        spo  Sao Paulo  3550308.0   \n",
       "4  2567.0  89a8100d9d7ffff        spo  Sao Paulo  3550308.0   \n",
       "\n",
       "                                            geometry  \n",
       "0  POLYGON ((-46.43596 -23.58661, -46.43800 -23.5...  \n",
       "1  POLYGON ((-46.77886 -23.89706, -46.78089 -23.8...  \n",
       "2  POLYGON ((-46.74000 -23.72290, -46.74204 -23.7...  \n",
       "3  POLYGON ((-46.62778 -23.65457, -46.62982 -23.6...  \n",
       "4  POLYGON ((-46.62335 -23.50435, -46.62539 -23.5...  "
      ]
     },
     "execution_count": 7,
     "metadata": {},
     "output_type": "execute_result"
    }
   ],
   "source": [
    "hex_sp.head()"
   ]
  },
  {
   "cell_type": "markdown",
   "metadata": {},
   "source": [
    "# Intersect data"
   ]
  },
  {
   "cell_type": "code",
   "execution_count": 8,
   "metadata": {},
   "outputs": [],
   "source": [
    "if buildings_sp.crs != DEFAULT_CRS:\n",
    "    buildings_sp = buildings_sp.to_crs(DEFAULT_CRS)\n",
    "if hex_sp.crs != DEFAULT_CRS:\n",
    "    hex_sp = hex_sp.to_crs(DEFAULT_CRS)"
   ]
  },
  {
   "cell_type": "code",
   "execution_count": 9,
   "metadata": {},
   "outputs": [],
   "source": [
    "building_join_h3 =  buildings_sp.overlay(hex_sp[['fid', 'geometry']], how='intersection')\n"
   ]
  },
  {
   "cell_type": "code",
   "execution_count": 10,
   "metadata": {},
   "outputs": [],
   "source": [
    "\n",
    "building_join_h3[\"area\"] = (\n",
    "    building_join_h3\n",
    "    .geometry\n",
    "    .to_crs(\"EPSG:5641\")\n",
    "    .area) # Area may be invalid for a geographic CRS using degrees as units; use GeoSeries.to_crs() to project geometries to a planar CRS before using this function.\n"
   ]
  },
  {
   "cell_type": "code",
   "execution_count": 11,
   "metadata": {},
   "outputs": [
    {
     "data": {
      "text/html": [
       "<div>\n",
       "<style scoped>\n",
       "    .dataframe tbody tr th:only-of-type {\n",
       "        vertical-align: middle;\n",
       "    }\n",
       "\n",
       "    .dataframe tbody tr th {\n",
       "        vertical-align: top;\n",
       "    }\n",
       "\n",
       "    .dataframe thead th {\n",
       "        text-align: right;\n",
       "    }\n",
       "</style>\n",
       "<table border=\"1\" class=\"dataframe\">\n",
       "  <thead>\n",
       "    <tr style=\"text-align: right;\">\n",
       "      <th></th>\n",
       "      <th>latitude</th>\n",
       "      <th>longitude</th>\n",
       "      <th>area_in_meters</th>\n",
       "      <th>confidence</th>\n",
       "      <th>full_plus_code</th>\n",
       "      <th>fid</th>\n",
       "      <th>geometry</th>\n",
       "      <th>area</th>\n",
       "    </tr>\n",
       "  </thead>\n",
       "  <tbody>\n",
       "    <tr>\n",
       "      <th>0</th>\n",
       "      <td>-23.581625</td>\n",
       "      <td>-46.636729</td>\n",
       "      <td>131.5081</td>\n",
       "      <td>0.8565</td>\n",
       "      <td>588MC997+88RW</td>\n",
       "      <td>16594.0</td>\n",
       "      <td>POLYGON ((-46.63673 -23.58170, -46.63680 -23.5...</td>\n",
       "      <td>155.843947</td>\n",
       "    </tr>\n",
       "    <tr>\n",
       "      <th>1</th>\n",
       "      <td>-23.663600</td>\n",
       "      <td>-46.654067</td>\n",
       "      <td>84.7656</td>\n",
       "      <td>0.7678</td>\n",
       "      <td>588M88PW+H93X</td>\n",
       "      <td>10987.0</td>\n",
       "      <td>POLYGON ((-46.65411 -23.66364, -46.65410 -23.6...</td>\n",
       "      <td>100.578102</td>\n",
       "    </tr>\n",
       "    <tr>\n",
       "      <th>2</th>\n",
       "      <td>-23.489794</td>\n",
       "      <td>-46.636847</td>\n",
       "      <td>48.2780</td>\n",
       "      <td>0.8282</td>\n",
       "      <td>588MG967+37J9</td>\n",
       "      <td>8654.0</td>\n",
       "      <td>POLYGON ((-46.63685 -23.48984, -46.63689 -23.4...</td>\n",
       "      <td>57.131702</td>\n",
       "    </tr>\n",
       "    <tr>\n",
       "      <th>3</th>\n",
       "      <td>-23.592264</td>\n",
       "      <td>-46.498459</td>\n",
       "      <td>25.1553</td>\n",
       "      <td>0.7473</td>\n",
       "      <td>588MCG52+3JVF</td>\n",
       "      <td>3411.0</td>\n",
       "      <td>POLYGON ((-46.49850 -23.59227, -46.49849 -23.5...</td>\n",
       "      <td>29.815231</td>\n",
       "    </tr>\n",
       "    <tr>\n",
       "      <th>4</th>\n",
       "      <td>-23.491956</td>\n",
       "      <td>-46.658361</td>\n",
       "      <td>51.0183</td>\n",
       "      <td>0.7954</td>\n",
       "      <td>588MG85R+6M6M</td>\n",
       "      <td>5790.0</td>\n",
       "      <td>POLYGON ((-46.65841 -23.49195, -46.65834 -23.4...</td>\n",
       "      <td>53.346947</td>\n",
       "    </tr>\n",
       "  </tbody>\n",
       "</table>\n",
       "</div>"
      ],
      "text/plain": [
       "    latitude  longitude  area_in_meters  confidence full_plus_code      fid  \\\n",
       "0 -23.581625 -46.636729        131.5081      0.8565  588MC997+88RW  16594.0   \n",
       "1 -23.663600 -46.654067         84.7656      0.7678  588M88PW+H93X  10987.0   \n",
       "2 -23.489794 -46.636847         48.2780      0.8282  588MG967+37J9   8654.0   \n",
       "3 -23.592264 -46.498459         25.1553      0.7473  588MCG52+3JVF   3411.0   \n",
       "4 -23.491956 -46.658361         51.0183      0.7954  588MG85R+6M6M   5790.0   \n",
       "\n",
       "                                            geometry        area  \n",
       "0  POLYGON ((-46.63673 -23.58170, -46.63680 -23.5...  155.843947  \n",
       "1  POLYGON ((-46.65411 -23.66364, -46.65410 -23.6...  100.578102  \n",
       "2  POLYGON ((-46.63685 -23.48984, -46.63689 -23.4...   57.131702  \n",
       "3  POLYGON ((-46.49850 -23.59227, -46.49849 -23.5...   29.815231  \n",
       "4  POLYGON ((-46.65841 -23.49195, -46.65834 -23.4...   53.346947  "
      ]
     },
     "execution_count": 11,
     "metadata": {},
     "output_type": "execute_result"
    }
   ],
   "source": [
    "building_join_h3.head()"
   ]
  },
  {
   "cell_type": "code",
   "execution_count": 17,
   "metadata": {},
   "outputs": [],
   "source": [
    "building_join_h3_na = building_join_h3.dropna(subset = ['fid'])"
   ]
  },
  {
   "cell_type": "code",
   "execution_count": 18,
   "metadata": {},
   "outputs": [],
   "source": [
    "area_sum_by_hex = building_join_h3.groupby(['fid']).agg({\n",
    "    \"area\": ['sum', 'mean', 'median', 'std', 'var', 'count']\n",
    "}).reset_index()"
   ]
  },
  {
   "cell_type": "code",
   "execution_count": 19,
   "metadata": {},
   "outputs": [],
   "source": [
    "area_sum_by_hex.columns = ['_'.join(col).strip() for col in area_sum_by_hex.columns.values if col != 'fid']\n"
   ]
  },
  {
   "cell_type": "code",
   "execution_count": 23,
   "metadata": {},
   "outputs": [
    {
     "data": {
      "text/html": [
       "<div>\n",
       "<style scoped>\n",
       "    .dataframe tbody tr th:only-of-type {\n",
       "        vertical-align: middle;\n",
       "    }\n",
       "\n",
       "    .dataframe tbody tr th {\n",
       "        vertical-align: top;\n",
       "    }\n",
       "\n",
       "    .dataframe thead th {\n",
       "        text-align: right;\n",
       "    }\n",
       "</style>\n",
       "<table border=\"1\" class=\"dataframe\">\n",
       "  <thead>\n",
       "    <tr style=\"text-align: right;\">\n",
       "      <th></th>\n",
       "      <th>fid_</th>\n",
       "      <th>area_sum</th>\n",
       "      <th>area_mean</th>\n",
       "      <th>area_median</th>\n",
       "      <th>area_std</th>\n",
       "      <th>area_var</th>\n",
       "      <th>area_count</th>\n",
       "    </tr>\n",
       "  </thead>\n",
       "  <tbody>\n",
       "    <tr>\n",
       "      <th>0</th>\n",
       "      <td>2563.0</td>\n",
       "      <td>13769.277107</td>\n",
       "      <td>52.554493</td>\n",
       "      <td>43.123784</td>\n",
       "      <td>40.794578</td>\n",
       "      <td>1664.197557</td>\n",
       "      <td>262</td>\n",
       "    </tr>\n",
       "    <tr>\n",
       "      <th>1</th>\n",
       "      <td>2564.0</td>\n",
       "      <td>1502.033709</td>\n",
       "      <td>150.203371</td>\n",
       "      <td>67.706910</td>\n",
       "      <td>174.333301</td>\n",
       "      <td>30392.099715</td>\n",
       "      <td>10</td>\n",
       "    </tr>\n",
       "    <tr>\n",
       "      <th>2</th>\n",
       "      <td>2567.0</td>\n",
       "      <td>61092.031359</td>\n",
       "      <td>168.762518</td>\n",
       "      <td>75.959449</td>\n",
       "      <td>391.982562</td>\n",
       "      <td>153650.328875</td>\n",
       "      <td>362</td>\n",
       "    </tr>\n",
       "    <tr>\n",
       "      <th>3</th>\n",
       "      <td>2569.0</td>\n",
       "      <td>103.110937</td>\n",
       "      <td>20.622187</td>\n",
       "      <td>17.462186</td>\n",
       "      <td>10.122136</td>\n",
       "      <td>102.457642</td>\n",
       "      <td>5</td>\n",
       "    </tr>\n",
       "    <tr>\n",
       "      <th>4</th>\n",
       "      <td>2570.0</td>\n",
       "      <td>33317.493661</td>\n",
       "      <td>87.447490</td>\n",
       "      <td>71.875638</td>\n",
       "      <td>63.973600</td>\n",
       "      <td>4092.621448</td>\n",
       "      <td>381</td>\n",
       "    </tr>\n",
       "  </tbody>\n",
       "</table>\n",
       "</div>"
      ],
      "text/plain": [
       "     fid_      area_sum   area_mean  area_median    area_std       area_var  \\\n",
       "0  2563.0  13769.277107   52.554493    43.123784   40.794578    1664.197557   \n",
       "1  2564.0   1502.033709  150.203371    67.706910  174.333301   30392.099715   \n",
       "2  2567.0  61092.031359  168.762518    75.959449  391.982562  153650.328875   \n",
       "3  2569.0    103.110937   20.622187    17.462186   10.122136     102.457642   \n",
       "4  2570.0  33317.493661   87.447490    71.875638   63.973600    4092.621448   \n",
       "\n",
       "   area_count  \n",
       "0         262  \n",
       "1          10  \n",
       "2         362  \n",
       "3           5  \n",
       "4         381  "
      ]
     },
     "execution_count": 23,
     "metadata": {},
     "output_type": "execute_result"
    }
   ],
   "source": [
    "area_sum_by_hex.head()"
   ]
  },
  {
   "cell_type": "code",
   "execution_count": 27,
   "metadata": {},
   "outputs": [],
   "source": [
    "hex_area = hex_sp.join(area_sum_by_hex.set_index('fid_'), how='left', rsuffix='sum', on='fid')"
   ]
  },
  {
   "cell_type": "code",
   "execution_count": 29,
   "metadata": {},
   "outputs": [],
   "source": [
    "hex_area['area_sum'] = hex_area['area_sum'].fillna(0)\n",
    "hex_area['area_mean'] = hex_area['area_mean'].fillna(0)\n",
    "hex_area['area_median'] = hex_area['area_median'].fillna(0)\n",
    "hex_area['area_std'] = hex_area['area_std'].fillna(0)\n",
    "hex_area['area_var'] = hex_area['area_var'].fillna(0)\n",
    "hex_area['area_count'] = hex_area['area_count'].fillna(0)\n",
    "\n",
    "\n"
   ]
  },
  {
   "cell_type": "code",
   "execution_count": 30,
   "metadata": {},
   "outputs": [],
   "source": [
    "hex_area['area_hex'] =  (\n",
    "    hex_area\n",
    "    .geometry\n",
    "    .to_crs(\"EPSG:5641\")\n",
    "    .area) # Area may be invalid for a geographic CRS using degrees as units; use GeoSeries.to_crs() to project geometries to a planar CRS before using this function.\n",
    "hex_area[\"area_const\"] = hex_area['area_sum']/ hex_area['area_hex']"
   ]
  },
  {
   "cell_type": "code",
   "execution_count": 31,
   "metadata": {},
   "outputs": [
    {
     "data": {
      "text/html": [
       "<div>\n",
       "<style scoped>\n",
       "    .dataframe tbody tr th:only-of-type {\n",
       "        vertical-align: middle;\n",
       "    }\n",
       "\n",
       "    .dataframe tbody tr th {\n",
       "        vertical-align: top;\n",
       "    }\n",
       "\n",
       "    .dataframe thead th {\n",
       "        text-align: right;\n",
       "    }\n",
       "</style>\n",
       "<table border=\"1\" class=\"dataframe\">\n",
       "  <thead>\n",
       "    <tr style=\"text-align: right;\">\n",
       "      <th></th>\n",
       "      <th>fid</th>\n",
       "      <th>id_hex</th>\n",
       "      <th>abbrev_mun</th>\n",
       "      <th>name_muni</th>\n",
       "      <th>code_muni</th>\n",
       "      <th>geometry</th>\n",
       "      <th>area_sum</th>\n",
       "      <th>area_mean</th>\n",
       "      <th>area_median</th>\n",
       "      <th>area_std</th>\n",
       "      <th>area_var</th>\n",
       "      <th>area_count</th>\n",
       "      <th>area_hex</th>\n",
       "      <th>area_const</th>\n",
       "    </tr>\n",
       "  </thead>\n",
       "  <tbody>\n",
       "    <tr>\n",
       "      <th>0</th>\n",
       "      <td>2563.0</td>\n",
       "      <td>89a81009a8bffff</td>\n",
       "      <td>spo</td>\n",
       "      <td>Sao Paulo</td>\n",
       "      <td>3550308.0</td>\n",
       "      <td>POLYGON ((-46.43596 -23.58661, -46.43800 -23.5...</td>\n",
       "      <td>13769.277107</td>\n",
       "      <td>52.554493</td>\n",
       "      <td>43.123784</td>\n",
       "      <td>40.794578</td>\n",
       "      <td>1664.197557</td>\n",
       "      <td>262.0</td>\n",
       "      <td>126099.311483</td>\n",
       "      <td>0.109194</td>\n",
       "    </tr>\n",
       "    <tr>\n",
       "      <th>1</th>\n",
       "      <td>2564.0</td>\n",
       "      <td>89a8108dca7ffff</td>\n",
       "      <td>spo</td>\n",
       "      <td>Sao Paulo</td>\n",
       "      <td>3550308.0</td>\n",
       "      <td>POLYGON ((-46.77886 -23.89706, -46.78089 -23.8...</td>\n",
       "      <td>1502.033709</td>\n",
       "      <td>150.203371</td>\n",
       "      <td>67.706910</td>\n",
       "      <td>174.333301</td>\n",
       "      <td>30392.099715</td>\n",
       "      <td>10.0</td>\n",
       "      <td>125814.918518</td>\n",
       "      <td>0.011938</td>\n",
       "    </tr>\n",
       "    <tr>\n",
       "      <th>2</th>\n",
       "      <td>2565.0</td>\n",
       "      <td>89a81015a8bffff</td>\n",
       "      <td>spo</td>\n",
       "      <td>Sao Paulo</td>\n",
       "      <td>3550308.0</td>\n",
       "      <td>POLYGON ((-46.74000 -23.72290, -46.74204 -23.7...</td>\n",
       "      <td>0.000000</td>\n",
       "      <td>0.000000</td>\n",
       "      <td>0.000000</td>\n",
       "      <td>0.000000</td>\n",
       "      <td>0.000000</td>\n",
       "      <td>0.0</td>\n",
       "      <td>125897.010258</td>\n",
       "      <td>0.000000</td>\n",
       "    </tr>\n",
       "    <tr>\n",
       "      <th>3</th>\n",
       "      <td>2566.0</td>\n",
       "      <td>89a810019d7ffff</td>\n",
       "      <td>spo</td>\n",
       "      <td>Sao Paulo</td>\n",
       "      <td>3550308.0</td>\n",
       "      <td>POLYGON ((-46.62778 -23.65457, -46.62982 -23.6...</td>\n",
       "      <td>0.000000</td>\n",
       "      <td>0.000000</td>\n",
       "      <td>0.000000</td>\n",
       "      <td>0.000000</td>\n",
       "      <td>0.000000</td>\n",
       "      <td>0.0</td>\n",
       "      <td>125979.202351</td>\n",
       "      <td>0.000000</td>\n",
       "    </tr>\n",
       "    <tr>\n",
       "      <th>4</th>\n",
       "      <td>2567.0</td>\n",
       "      <td>89a8100d9d7ffff</td>\n",
       "      <td>spo</td>\n",
       "      <td>Sao Paulo</td>\n",
       "      <td>3550308.0</td>\n",
       "      <td>POLYGON ((-46.62335 -23.50435, -46.62539 -23.5...</td>\n",
       "      <td>61092.031359</td>\n",
       "      <td>168.762518</td>\n",
       "      <td>75.959449</td>\n",
       "      <td>391.982562</td>\n",
       "      <td>153650.328875</td>\n",
       "      <td>362.0</td>\n",
       "      <td>126033.393325</td>\n",
       "      <td>0.484729</td>\n",
       "    </tr>\n",
       "  </tbody>\n",
       "</table>\n",
       "</div>"
      ],
      "text/plain": [
       "      fid           id_hex abbrev_mun  name_muni  code_muni  \\\n",
       "0  2563.0  89a81009a8bffff        spo  Sao Paulo  3550308.0   \n",
       "1  2564.0  89a8108dca7ffff        spo  Sao Paulo  3550308.0   \n",
       "2  2565.0  89a81015a8bffff        spo  Sao Paulo  3550308.0   \n",
       "3  2566.0  89a810019d7ffff        spo  Sao Paulo  3550308.0   \n",
       "4  2567.0  89a8100d9d7ffff        spo  Sao Paulo  3550308.0   \n",
       "\n",
       "                                            geometry      area_sum  \\\n",
       "0  POLYGON ((-46.43596 -23.58661, -46.43800 -23.5...  13769.277107   \n",
       "1  POLYGON ((-46.77886 -23.89706, -46.78089 -23.8...   1502.033709   \n",
       "2  POLYGON ((-46.74000 -23.72290, -46.74204 -23.7...      0.000000   \n",
       "3  POLYGON ((-46.62778 -23.65457, -46.62982 -23.6...      0.000000   \n",
       "4  POLYGON ((-46.62335 -23.50435, -46.62539 -23.5...  61092.031359   \n",
       "\n",
       "    area_mean  area_median    area_std       area_var  area_count  \\\n",
       "0   52.554493    43.123784   40.794578    1664.197557       262.0   \n",
       "1  150.203371    67.706910  174.333301   30392.099715        10.0   \n",
       "2    0.000000     0.000000    0.000000       0.000000         0.0   \n",
       "3    0.000000     0.000000    0.000000       0.000000         0.0   \n",
       "4  168.762518    75.959449  391.982562  153650.328875       362.0   \n",
       "\n",
       "        area_hex  area_const  \n",
       "0  126099.311483    0.109194  \n",
       "1  125814.918518    0.011938  \n",
       "2  125897.010258    0.000000  \n",
       "3  125979.202351    0.000000  \n",
       "4  126033.393325    0.484729  "
      ]
     },
     "execution_count": 31,
     "metadata": {},
     "output_type": "execute_result"
    }
   ],
   "source": [
    "hex_area.head()"
   ]
  },
  {
   "cell_type": "code",
   "execution_count": 25,
   "metadata": {},
   "outputs": [
    {
     "data": {
      "text/plain": [
       "fid            0\n",
       "id_hex         0\n",
       "abbrev_mun     0\n",
       "name_muni      0\n",
       "code_muni      0\n",
       "geometry       0\n",
       "area_sum       0\n",
       "area_mean      0\n",
       "area_median    0\n",
       "area_std       0\n",
       "area_var       0\n",
       "area_count     0\n",
       "area_hex       0\n",
       "area_const     0\n",
       "dtype: int64"
      ]
     },
     "execution_count": 25,
     "metadata": {},
     "output_type": "execute_result"
    }
   ],
   "source": [
    "hex_area.isna().sum()"
   ]
  },
  {
   "cell_type": "markdown",
   "metadata": {},
   "source": [
    "Final transformations"
   ]
  },
  {
   "cell_type": "code",
   "execution_count": 32,
   "metadata": {},
   "outputs": [],
   "source": [
    "hex_area[\"fid\"] = hex_area[\"fid\"].astype(int)"
   ]
  },
  {
   "cell_type": "code",
   "execution_count": 27,
   "metadata": {},
   "outputs": [],
   "source": [
    "hex_area.to_file(\"data/WGS84_hex_construcao_open_buildings_2023.gpkg\", driver=\"GPKG\")"
   ]
  }
 ],
 "metadata": {
  "kernelspec": {
   "display_name": "scriptsMestrado",
   "language": "python",
   "name": "python3"
  },
  "language_info": {
   "codemirror_mode": {
    "name": "ipython",
    "version": 3
   },
   "file_extension": ".py",
   "mimetype": "text/x-python",
   "name": "python",
   "nbconvert_exporter": "python",
   "pygments_lexer": "ipython3",
   "version": "3.12.4"
  }
 },
 "nbformat": 4,
 "nbformat_minor": 2
}
