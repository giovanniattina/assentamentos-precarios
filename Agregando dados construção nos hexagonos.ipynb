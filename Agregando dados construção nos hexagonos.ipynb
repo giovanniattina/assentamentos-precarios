{
 "cells": [
  {
   "cell_type": "code",
   "execution_count": 1,
   "metadata": {},
   "outputs": [],
   "source": [
    "import geopandas as gpd \n",
    "import pandas as pd\n",
    "\n",
    "from shapely import wkt"
   ]
  },
  {
   "cell_type": "code",
   "execution_count": 2,
   "metadata": {},
   "outputs": [],
   "source": [
    "pd.options.display.max_columns = None\n",
    "pd.options.display.max_rows = None"
   ]
  },
  {
   "cell_type": "code",
   "execution_count": 3,
   "metadata": {},
   "outputs": [],
   "source": [
    "DEFAULT_CRS = \"EPSG:4326\""
   ]
  },
  {
   "cell_type": "markdown",
   "metadata": {},
   "source": [
    "# read building data\n",
    "O poligono utilizado para realizar download de dados de construção do Google Open Building foi: POLYGON((-46.92166552116743 -23.35298450738664,-46.19244799187055 -23.35298450738664,-46.19244799187055 -23.899033072097712,-46.92166552116743 -23.899033072097712,-46.92166552116743 -23.35298450738664))"
   ]
  },
  {
   "cell_type": "code",
   "execution_count": 4,
   "metadata": {},
   "outputs": [],
   "source": [
    "\n",
    "# buildings_sp = gpd.read_parquet(\"spBuilding.geoparquet\") # lendo arquivo do OverTure\n",
    "builds_csv = pd.read_csv(\"data/open_buildings_v3_polygons_sp.csv\")\n"
   ]
  },
  {
   "cell_type": "code",
   "execution_count": 5,
   "metadata": {},
   "outputs": [],
   "source": [
    "builds_csv['geometry'] = builds_csv['geometry'].apply(wkt.loads)\n",
    "buildings_sp = gpd.GeoDataFrame(builds_csv, geometry='geometry', crs=DEFAULT_CRS)\n"
   ]
  },
  {
   "cell_type": "code",
   "execution_count": null,
   "metadata": {},
   "outputs": [],
   "source": [
    "#buildings_sp.rename(columns={'area_in_meters':'area'}, inplace=True)\n",
    "buildings_sp.head()"
   ]
  },
  {
   "cell_type": "markdown",
   "metadata": {},
   "source": [
    "# Reading h2 "
   ]
  },
  {
   "cell_type": "code",
   "execution_count": 7,
   "metadata": {},
   "outputs": [],
   "source": [
    "hex_sp = gpd.read_file(\"data/shapeFiles/GRIDS_H3_SP_RES10\") # res10"
   ]
  },
  {
   "cell_type": "code",
   "execution_count": null,
   "metadata": {},
   "outputs": [],
   "source": [
    "hex_sp.head()"
   ]
  },
  {
   "cell_type": "markdown",
   "metadata": {},
   "source": [
    "# Intersect data"
   ]
  },
  {
   "cell_type": "code",
   "execution_count": 9,
   "metadata": {},
   "outputs": [],
   "source": [
    "if buildings_sp.crs != DEFAULT_CRS:\n",
    "    buildings_sp = buildings_sp.to_crs(DEFAULT_CRS)\n",
    "if hex_sp.crs != DEFAULT_CRS:\n",
    "    hex_sp = hex_sp.to_crs(DEFAULT_CRS)"
   ]
  },
  {
   "cell_type": "code",
   "execution_count": 10,
   "metadata": {},
   "outputs": [],
   "source": [
    "building_join_h3 =  buildings_sp.overlay(hex_sp[['id_hex', 'geometry']], how='intersection')\n"
   ]
  },
  {
   "cell_type": "code",
   "execution_count": 11,
   "metadata": {},
   "outputs": [],
   "source": [
    "\n",
    "building_join_h3[\"area\"] = (\n",
    "    building_join_h3\n",
    "    .geometry\n",
    "    .to_crs(\"EPSG:5641\")\n",
    "    .area) # Area may be invalid for a geographic CRS using degrees as units; use GeoSeries.to_crs() to project geometries to a planar CRS before using this function.\n"
   ]
  },
  {
   "cell_type": "code",
   "execution_count": null,
   "metadata": {},
   "outputs": [],
   "source": [
    "building_join_h3.head()"
   ]
  },
  {
   "cell_type": "code",
   "execution_count": 13,
   "metadata": {},
   "outputs": [],
   "source": [
    "building_join_h3_na = building_join_h3.dropna(subset = ['id_hex'])"
   ]
  },
  {
   "cell_type": "code",
   "execution_count": 14,
   "metadata": {},
   "outputs": [],
   "source": [
    "area_sum_by_hex = building_join_h3.groupby(['id_hex']).agg({\n",
    "    \"area\": ['sum', 'mean', 'median', 'std', 'var', 'count']\n",
    "}).reset_index()"
   ]
  },
  {
   "cell_type": "code",
   "execution_count": 15,
   "metadata": {},
   "outputs": [],
   "source": [
    "area_sum_by_hex.columns = ['_'.join(col).strip() for col in area_sum_by_hex.columns.values if col != 'id_hex']\n"
   ]
  },
  {
   "cell_type": "code",
   "execution_count": null,
   "metadata": {},
   "outputs": [],
   "source": [
    "area_sum_by_hex.head()"
   ]
  },
  {
   "cell_type": "code",
   "execution_count": 17,
   "metadata": {},
   "outputs": [],
   "source": [
    "hex_area = hex_sp.join(area_sum_by_hex.set_index('id_hex_'), how='left', rsuffix='sum', on='id_hex')"
   ]
  },
  {
   "cell_type": "code",
   "execution_count": 18,
   "metadata": {},
   "outputs": [],
   "source": [
    "hex_area['area_sum'] = hex_area['area_sum'].fillna(0)\n",
    "hex_area['area_mean'] = hex_area['area_mean'].fillna(0)\n",
    "hex_area['area_median'] = hex_area['area_median'].fillna(0)\n",
    "hex_area['area_std'] = hex_area['area_std'].fillna(0)\n",
    "hex_area['area_var'] = hex_area['area_var'].fillna(0)\n",
    "hex_area['area_count'] = hex_area['area_count'].fillna(0)\n",
    "\n",
    "\n"
   ]
  },
  {
   "cell_type": "code",
   "execution_count": 19,
   "metadata": {},
   "outputs": [],
   "source": [
    "hex_area['area_hex'] =  (\n",
    "    hex_area\n",
    "    .geometry\n",
    "    .to_crs(\"EPSG:5641\")\n",
    "    .area) # Area may be invalid for a geographic CRS using degrees as units; use GeoSeries.to_crs() to project geometries to a planar CRS before using this function.\n",
    "hex_area[\"area_const\"] = hex_area['area_sum']/ hex_area['area_hex']"
   ]
  },
  {
   "cell_type": "code",
   "execution_count": null,
   "metadata": {},
   "outputs": [],
   "source": [
    "hex_area.head()"
   ]
  },
  {
   "cell_type": "code",
   "execution_count": null,
   "metadata": {},
   "outputs": [],
   "source": [
    "hex_area.isna().sum()"
   ]
  },
  {
   "cell_type": "markdown",
   "metadata": {},
   "source": [
    "Final transformations"
   ]
  },
  {
   "cell_type": "code",
   "execution_count": 22,
   "metadata": {},
   "outputs": [],
   "source": [
    "#hex_area[\"hex_fid\"] = hex_area[\"fid\"].astype(int) #geopandas as a bug with fid https://github.com/geopandas/geopandas/issues/1035\n",
    "#hex_area.drop(\"fid\", inplace=True, axis=1)"
   ]
  },
  {
   "cell_type": "code",
   "execution_count": 23,
   "metadata": {},
   "outputs": [],
   "source": [
    "hex_area.to_file(\"data/WGS84_hex_construcao_open_buildings_2023.gpkg\", driver=\"GPKG\")"
   ]
  }
 ],
 "metadata": {
  "kernelspec": {
   "display_name": "scriptsMestrado",
   "language": "python",
   "name": "python3"
  },
  "language_info": {
   "codemirror_mode": {
    "name": "ipython",
    "version": 3
   },
   "file_extension": ".py",
   "mimetype": "text/x-python",
   "name": "python",
   "nbconvert_exporter": "python",
   "pygments_lexer": "ipython3",
   "version": "3.12.4"
  }
 },
 "nbformat": 4,
 "nbformat_minor": 2
}
