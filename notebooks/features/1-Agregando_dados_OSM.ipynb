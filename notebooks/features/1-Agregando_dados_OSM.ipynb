{
 "cells": [
  {
   "cell_type": "code",
   "execution_count": 13,
   "metadata": {},
   "outputs": [],
   "source": [
    "import osmnx as ox\n",
    "import geopandas as gpd\n",
    "import pandas as pd"
   ]
  },
  {
   "cell_type": "code",
   "execution_count": 14,
   "metadata": {},
   "outputs": [],
   "source": [
    "DEFAULT_CRS = \"EPSG:4326\""
   ]
  },
  {
   "cell_type": "code",
   "execution_count": 15,
   "metadata": {},
   "outputs": [],
   "source": [
    "ox.settings.requests_timeout=10000"
   ]
  },
  {
   "cell_type": "code",
   "execution_count": 16,
   "metadata": {},
   "outputs": [],
   "source": [
    "# 1. Get the bounding polygon of São Paulo\n",
    "city = \"São Paulo, Brazil\"\n",
    "place = ox.geocoder.geocode_to_gdf(city)"
   ]
  },
  {
   "cell_type": "code",
   "execution_count": 17,
   "metadata": {},
   "outputs": [],
   "source": [
    "\n",
    "tags_railway = {\n",
    " \"railway\": [\"rail\", \"light_rail\", \"subway\", \"tram\"],\n",
    "} \n",
    "tags_highway = {\n",
    "  \"highway\": [\"motorway\", \"trunk\", \"primary\"]\n",
    "}\n",
    "tags_aeroway = {\n",
    "    \"aeroway\": [\"aerodrome\", \"heliport\", \"runway\", \"taxiway\", \"apron\"]\n",
    "} \n",
    "tags_power = {\n",
    "    \"power\": [\"line\", \"minor_line\", \"tower\", \"pole\", \"plant\", \"generator\"],\n",
    "}\n",
    "tags_landuse = {\n",
    " \"landuse\": [\"industrial\"],\n",
    "}\n",
    "tags_natural = {\n",
    "    \"natural\": [\"water\", \"bay\", \"strait\"],\n",
    "}\n",
    "\n",
    "tags_waterway = {\n",
    "    \"waterway\": [\"river\", \"canal\", \"stream\"]\n",
    "}"
   ]
  },
  {
   "cell_type": "code",
   "execution_count": 18,
   "metadata": {},
   "outputs": [
    {
     "name": "stderr",
     "output_type": "stream",
     "text": [
      "/var/folders/kf/12t4yv8j7pg0z8zqbypmj9440000gn/T/ipykernel_24860/986735067.py:1: FutureWarning: The `geometries` module and `geometries_from_X` functions have been renamed the `features` module and `features_from_X` functions. Use these instead. The `geometries` module and function names are deprecated and will be removed in the v2.0.0 release. See the OSMnx v2 migration guide: https://github.com/gboeing/osmnx/issues/1123\n",
      "  gdf_railway = ox.geometries_from_polygon(place.geometry.iloc[0], tags_railway).reset_index()\n"
     ]
    }
   ],
   "source": [
    "gdf_railway = ox.geometries_from_polygon(place.geometry.iloc[0], tags_railway).reset_index()\n"
   ]
  },
  {
   "cell_type": "code",
   "execution_count": 19,
   "metadata": {},
   "outputs": [
    {
     "name": "stderr",
     "output_type": "stream",
     "text": [
      "/var/folders/kf/12t4yv8j7pg0z8zqbypmj9440000gn/T/ipykernel_24860/4280089468.py:1: FutureWarning: The `geometries` module and `geometries_from_X` functions have been renamed the `features` module and `features_from_X` functions. Use these instead. The `geometries` module and function names are deprecated and will be removed in the v2.0.0 release. See the OSMnx v2 migration guide: https://github.com/gboeing/osmnx/issues/1123\n",
      "  gdf_highway = ox.geometries_from_polygon(place.geometry.iloc[0], tags_highway).reset_index()\n"
     ]
    }
   ],
   "source": [
    "gdf_highway = ox.geometries_from_polygon(place.geometry.iloc[0], tags_highway).reset_index()"
   ]
  },
  {
   "cell_type": "code",
   "execution_count": 20,
   "metadata": {},
   "outputs": [
    {
     "name": "stderr",
     "output_type": "stream",
     "text": [
      "/var/folders/kf/12t4yv8j7pg0z8zqbypmj9440000gn/T/ipykernel_24860/1409962219.py:1: FutureWarning: The `geometries` module and `geometries_from_X` functions have been renamed the `features` module and `features_from_X` functions. Use these instead. The `geometries` module and function names are deprecated and will be removed in the v2.0.0 release. See the OSMnx v2 migration guide: https://github.com/gboeing/osmnx/issues/1123\n",
      "  gdf_power = ox.geometries_from_polygon(place.geometry.iloc[0], tags_power).reset_index()\n"
     ]
    }
   ],
   "source": [
    "gdf_power = ox.geometries_from_polygon(place.geometry.iloc[0], tags_power).reset_index()"
   ]
  },
  {
   "cell_type": "code",
   "execution_count": 30,
   "metadata": {},
   "outputs": [
    {
     "name": "stderr",
     "output_type": "stream",
     "text": [
      "/var/folders/kf/12t4yv8j7pg0z8zqbypmj9440000gn/T/ipykernel_24860/4059453001.py:1: FutureWarning: The `geometries` module and `geometries_from_X` functions have been renamed the `features` module and `features_from_X` functions. Use these instead. The `geometries` module and function names are deprecated and will be removed in the v2.0.0 release. See the OSMnx v2 migration guide: https://github.com/gboeing/osmnx/issues/1123\n",
      "  gdf_aeroway = ox.geometries_from_polygon(place.geometry.iloc[0], tags_aeroway).reset_index()\n"
     ]
    }
   ],
   "source": [
    "gdf_aeroway = ox.geometries_from_polygon(place.geometry.iloc[0], tags_aeroway).reset_index()"
   ]
  },
  {
   "cell_type": "code",
   "execution_count": 22,
   "metadata": {},
   "outputs": [
    {
     "name": "stderr",
     "output_type": "stream",
     "text": [
      "/var/folders/kf/12t4yv8j7pg0z8zqbypmj9440000gn/T/ipykernel_24860/2132015291.py:1: FutureWarning: The `geometries` module and `geometries_from_X` functions have been renamed the `features` module and `features_from_X` functions. Use these instead. The `geometries` module and function names are deprecated and will be removed in the v2.0.0 release. See the OSMnx v2 migration guide: https://github.com/gboeing/osmnx/issues/1123\n",
      "  gdf_natural = ox.geometries_from_polygon(place.geometry.iloc[0], tags_natural).reset_index()\n"
     ]
    }
   ],
   "source": [
    "gdf_natural = ox.geometries_from_polygon(place.geometry.iloc[0], tags_natural).reset_index()"
   ]
  },
  {
   "cell_type": "code",
   "execution_count": 23,
   "metadata": {},
   "outputs": [
    {
     "name": "stderr",
     "output_type": "stream",
     "text": [
      "/var/folders/kf/12t4yv8j7pg0z8zqbypmj9440000gn/T/ipykernel_24860/2135072112.py:1: FutureWarning: The `geometries` module and `geometries_from_X` functions have been renamed the `features` module and `features_from_X` functions. Use these instead. The `geometries` module and function names are deprecated and will be removed in the v2.0.0 release. See the OSMnx v2 migration guide: https://github.com/gboeing/osmnx/issues/1123\n",
      "  gdf_waterway = ox.geometries_from_polygon(place.geometry.iloc[0], tags_waterway).reset_index()\n"
     ]
    }
   ],
   "source": [
    "gdf_waterway = ox.geometries_from_polygon(place.geometry.iloc[0], tags_waterway).reset_index()"
   ]
  },
  {
   "cell_type": "markdown",
   "metadata": {},
   "source": [
    "## Data Clean\n",
    "- highways remove the element_type: relation\n",
    "- gdf_aeroway remove element_type: node"
   ]
  },
  {
   "cell_type": "code",
   "execution_count": 26,
   "metadata": {},
   "outputs": [
    {
     "data": {
      "text/html": [
       "<div>\n",
       "<style scoped>\n",
       "    .dataframe tbody tr th:only-of-type {\n",
       "        vertical-align: middle;\n",
       "    }\n",
       "\n",
       "    .dataframe tbody tr th {\n",
       "        vertical-align: top;\n",
       "    }\n",
       "\n",
       "    .dataframe thead th {\n",
       "        text-align: right;\n",
       "    }\n",
       "</style>\n",
       "<table border=\"1\" class=\"dataframe\">\n",
       "  <thead>\n",
       "    <tr style=\"text-align: right;\">\n",
       "      <th></th>\n",
       "      <th>id_hex</th>\n",
       "      <th>geometry</th>\n",
       "    </tr>\n",
       "  </thead>\n",
       "  <tbody>\n",
       "    <tr>\n",
       "      <th>0</th>\n",
       "      <td>8aa8100c3257fff</td>\n",
       "      <td>POLYGON ((-46.63592 -23.53032, -46.63664 -23.5...</td>\n",
       "    </tr>\n",
       "    <tr>\n",
       "      <th>1</th>\n",
       "      <td>8aa8100d2447fff</td>\n",
       "      <td>POLYGON ((-46.53650 -23.53972, -46.53722 -23.5...</td>\n",
       "    </tr>\n",
       "    <tr>\n",
       "      <th>2</th>\n",
       "      <td>8aa8100e1637fff</td>\n",
       "      <td>POLYGON ((-46.66886 -23.59437, -46.66958 -23.5...</td>\n",
       "    </tr>\n",
       "    <tr>\n",
       "      <th>3</th>\n",
       "      <td>8aa8100f0827fff</td>\n",
       "      <td>POLYGON ((-46.59115 -23.61353, -46.59187 -23.6...</td>\n",
       "    </tr>\n",
       "    <tr>\n",
       "      <th>4</th>\n",
       "      <td>8aa81010ec07fff</td>\n",
       "      <td>POLYGON ((-46.65231 -23.83331, -46.65303 -23.8...</td>\n",
       "    </tr>\n",
       "  </tbody>\n",
       "</table>\n",
       "</div>"
      ],
      "text/plain": [
       "            id_hex                                           geometry\n",
       "0  8aa8100c3257fff  POLYGON ((-46.63592 -23.53032, -46.63664 -23.5...\n",
       "1  8aa8100d2447fff  POLYGON ((-46.53650 -23.53972, -46.53722 -23.5...\n",
       "2  8aa8100e1637fff  POLYGON ((-46.66886 -23.59437, -46.66958 -23.5...\n",
       "3  8aa8100f0827fff  POLYGON ((-46.59115 -23.61353, -46.59187 -23.6...\n",
       "4  8aa81010ec07fff  POLYGON ((-46.65231 -23.83331, -46.65303 -23.8..."
      ]
     },
     "execution_count": 26,
     "metadata": {},
     "output_type": "execute_result"
    }
   ],
   "source": [
    "\n",
    "hex_sp = gpd.read_file(\"../../data/shapeFiles/GRIDS_H3_SP_RES10\") \n",
    "\n",
    "\n",
    "# Transform the CRS to EPSG:31983\n",
    "hex_sp = hex_sp.to_crs(DEFAULT_CRS)\n",
    "hex_sp.head()"
   ]
  },
  {
   "cell_type": "markdown",
   "metadata": {},
   "source": [
    "# 2. Buffer each GeoDataFrame with 100 meters (convert to projected CRS for meters)\n"
   ]
  },
  {
   "cell_type": "code",
   "execution_count": 39,
   "metadata": {},
   "outputs": [],
   "source": [
    "gdfs = [gdf_railway, gdf_highway, gdf_power, gdf_aeroway, gdf_natural, gdf_waterway]\n",
    "buffered_gdfs = []\n",
    "\n",
    "for gdf in gdfs:\n",
    "    # Reproject to a projected CRS, apply 100m buffer, and revert to original CRS\n",
    "    gdf_projected = gdf.to_crs(epsg=3857)\n",
    "    gdf_buffered = gdf_projected.buffer(100).to_crs(epsg=4326)\n",
    "    buffered_gdfs.append(gdf_buffered)\n"
   ]
  },
  {
   "cell_type": "code",
   "execution_count": 40,
   "metadata": {},
   "outputs": [],
   "source": [
    "# 3. Perform intersections with each buffered GeoDataFrame and add boolean columns\n",
    "hex_sp[\"railway_intersection\"] = hex_sp.intersects(buffered_gdfs[0].unary_union)\n",
    "hex_sp[\"highway_intersection\"] = hex_sp.intersects(buffered_gdfs[1].unary_union)\n",
    "hex_sp[\"power_intersection\"] = hex_sp.intersects(buffered_gdfs[2].unary_union)\n",
    "hex_sp[\"aeroway_intersection\"] = hex_sp.intersects(buffered_gdfs[3].unary_union)\n",
    "hex_sp[\"natural_intersection\"] = hex_sp.intersects(buffered_gdfs[4].unary_union)\n",
    "hex_sp[\"waterway_intersection\"] = hex_sp.intersects(buffered_gdfs[5].unary_union)"
   ]
  },
  {
   "cell_type": "code",
   "execution_count": 41,
   "metadata": {},
   "outputs": [
    {
     "data": {
      "text/html": [
       "<div>\n",
       "<style scoped>\n",
       "    .dataframe tbody tr th:only-of-type {\n",
       "        vertical-align: middle;\n",
       "    }\n",
       "\n",
       "    .dataframe tbody tr th {\n",
       "        vertical-align: top;\n",
       "    }\n",
       "\n",
       "    .dataframe thead th {\n",
       "        text-align: right;\n",
       "    }\n",
       "</style>\n",
       "<table border=\"1\" class=\"dataframe\">\n",
       "  <thead>\n",
       "    <tr style=\"text-align: right;\">\n",
       "      <th></th>\n",
       "      <th>id_hex</th>\n",
       "      <th>geometry</th>\n",
       "      <th>railway_intersection</th>\n",
       "      <th>highway_intersection</th>\n",
       "      <th>power_intersection</th>\n",
       "      <th>aeroway_intersection</th>\n",
       "      <th>natural_intersection</th>\n",
       "      <th>waterway_intersection</th>\n",
       "    </tr>\n",
       "  </thead>\n",
       "  <tbody>\n",
       "    <tr>\n",
       "      <th>0</th>\n",
       "      <td>8aa8100c3257fff</td>\n",
       "      <td>POLYGON ((-46.63592 -23.53032, -46.63664 -23.5...</td>\n",
       "      <td>False</td>\n",
       "      <td>False</td>\n",
       "      <td>False</td>\n",
       "      <td>False</td>\n",
       "      <td>False</td>\n",
       "      <td>False</td>\n",
       "    </tr>\n",
       "    <tr>\n",
       "      <th>1</th>\n",
       "      <td>8aa8100d2447fff</td>\n",
       "      <td>POLYGON ((-46.53650 -23.53972, -46.53722 -23.5...</td>\n",
       "      <td>False</td>\n",
       "      <td>False</td>\n",
       "      <td>False</td>\n",
       "      <td>False</td>\n",
       "      <td>False</td>\n",
       "      <td>False</td>\n",
       "    </tr>\n",
       "    <tr>\n",
       "      <th>2</th>\n",
       "      <td>8aa8100e1637fff</td>\n",
       "      <td>POLYGON ((-46.66886 -23.59437, -46.66958 -23.5...</td>\n",
       "      <td>False</td>\n",
       "      <td>False</td>\n",
       "      <td>False</td>\n",
       "      <td>False</td>\n",
       "      <td>False</td>\n",
       "      <td>False</td>\n",
       "    </tr>\n",
       "    <tr>\n",
       "      <th>3</th>\n",
       "      <td>8aa8100f0827fff</td>\n",
       "      <td>POLYGON ((-46.59115 -23.61353, -46.59187 -23.6...</td>\n",
       "      <td>False</td>\n",
       "      <td>False</td>\n",
       "      <td>False</td>\n",
       "      <td>False</td>\n",
       "      <td>False</td>\n",
       "      <td>False</td>\n",
       "    </tr>\n",
       "    <tr>\n",
       "      <th>4</th>\n",
       "      <td>8aa81010ec07fff</td>\n",
       "      <td>POLYGON ((-46.65231 -23.83331, -46.65303 -23.8...</td>\n",
       "      <td>False</td>\n",
       "      <td>False</td>\n",
       "      <td>False</td>\n",
       "      <td>False</td>\n",
       "      <td>False</td>\n",
       "      <td>False</td>\n",
       "    </tr>\n",
       "  </tbody>\n",
       "</table>\n",
       "</div>"
      ],
      "text/plain": [
       "            id_hex                                           geometry  \\\n",
       "0  8aa8100c3257fff  POLYGON ((-46.63592 -23.53032, -46.63664 -23.5...   \n",
       "1  8aa8100d2447fff  POLYGON ((-46.53650 -23.53972, -46.53722 -23.5...   \n",
       "2  8aa8100e1637fff  POLYGON ((-46.66886 -23.59437, -46.66958 -23.5...   \n",
       "3  8aa8100f0827fff  POLYGON ((-46.59115 -23.61353, -46.59187 -23.6...   \n",
       "4  8aa81010ec07fff  POLYGON ((-46.65231 -23.83331, -46.65303 -23.8...   \n",
       "\n",
       "   railway_intersection  highway_intersection  power_intersection  \\\n",
       "0                 False                 False               False   \n",
       "1                 False                 False               False   \n",
       "2                 False                 False               False   \n",
       "3                 False                 False               False   \n",
       "4                 False                 False               False   \n",
       "\n",
       "   aeroway_intersection  natural_intersection  waterway_intersection  \n",
       "0                 False                 False                  False  \n",
       "1                 False                 False                  False  \n",
       "2                 False                 False                  False  \n",
       "3                 False                 False                  False  \n",
       "4                 False                 False                  False  "
      ]
     },
     "execution_count": 41,
     "metadata": {},
     "output_type": "execute_result"
    }
   ],
   "source": [
    "hex_sp.head()"
   ]
  },
  {
   "cell_type": "code",
   "execution_count": 42,
   "metadata": {},
   "outputs": [
    {
     "data": {
      "text/html": [
       "<div>\n",
       "<style scoped>\n",
       "    .dataframe tbody tr th:only-of-type {\n",
       "        vertical-align: middle;\n",
       "    }\n",
       "\n",
       "    .dataframe tbody tr th {\n",
       "        vertical-align: top;\n",
       "    }\n",
       "\n",
       "    .dataframe thead th {\n",
       "        text-align: right;\n",
       "    }\n",
       "</style>\n",
       "<table border=\"1\" class=\"dataframe\">\n",
       "  <thead>\n",
       "    <tr style=\"text-align: right;\">\n",
       "      <th></th>\n",
       "      <th>id_hex</th>\n",
       "      <th>geometry</th>\n",
       "      <th>railway_intersection</th>\n",
       "      <th>highway_intersection</th>\n",
       "      <th>power_intersection</th>\n",
       "      <th>aeroway_intersection</th>\n",
       "      <th>natural_intersection</th>\n",
       "      <th>waterway_intersection</th>\n",
       "    </tr>\n",
       "  </thead>\n",
       "  <tbody>\n",
       "    <tr>\n",
       "      <th>87189</th>\n",
       "      <td>8aa810150937fff</td>\n",
       "      <td>POLYGON ((-46.72339 -23.78188, -46.72411 -23.7...</td>\n",
       "      <td>False</td>\n",
       "      <td>True</td>\n",
       "      <td>False</td>\n",
       "      <td>False</td>\n",
       "      <td>False</td>\n",
       "      <td>True</td>\n",
       "    </tr>\n",
       "  </tbody>\n",
       "</table>\n",
       "</div>"
      ],
      "text/plain": [
       "                id_hex                                           geometry  \\\n",
       "87189  8aa810150937fff  POLYGON ((-46.72339 -23.78188, -46.72411 -23.7...   \n",
       "\n",
       "       railway_intersection  highway_intersection  power_intersection  \\\n",
       "87189                 False                  True               False   \n",
       "\n",
       "       aeroway_intersection  natural_intersection  waterway_intersection  \n",
       "87189                 False                 False                   True  "
      ]
     },
     "execution_count": 42,
     "metadata": {},
     "output_type": "execute_result"
    }
   ],
   "source": [
    "hex_sp[hex_sp['id_hex'] == '8aa810150937fff']"
   ]
  },
  {
   "cell_type": "code",
   "execution_count": 44,
   "metadata": {},
   "outputs": [],
   "source": [
    "hex_sp.to_file(\"../../data/generated/WGS84_hex_sp_osm.gpkg\", driver=\"GPKG\")\n"
   ]
  }
 ],
 "metadata": {
  "kernelspec": {
   "display_name": "scriptsMestrado",
   "language": "python",
   "name": "python3"
  },
  "language_info": {
   "codemirror_mode": {
    "name": "ipython",
    "version": 3
   },
   "file_extension": ".py",
   "mimetype": "text/x-python",
   "name": "python",
   "nbconvert_exporter": "python",
   "pygments_lexer": "ipython3",
   "version": "3.12.4"
  }
 },
 "nbformat": 4,
 "nbformat_minor": 2
}
