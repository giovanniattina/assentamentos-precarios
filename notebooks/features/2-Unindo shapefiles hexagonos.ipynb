{
 "cells": [
  {
   "cell_type": "code",
   "execution_count": 58,
   "metadata": {},
   "outputs": [],
   "source": [
    "import geopandas as gpd\n"
   ]
  },
  {
   "cell_type": "code",
   "execution_count": 59,
   "metadata": {},
   "outputs": [],
   "source": [
    "DEFAULT_CRS = \"EPSG:4326\""
   ]
  },
  {
   "cell_type": "markdown",
   "metadata": {},
   "source": [
    "# lendos shapefiles\n",
    "\n"
   ]
  },
  {
   "cell_type": "code",
   "execution_count": 75,
   "metadata": {},
   "outputs": [],
   "source": [
    "hex_iptu = gpd.read_file(\"../../data/generate/WGS84_hex_iptu_2020.gpkg\")\n",
    "hex_contruco = gpd.read_file(\"../../data/generated/WGS84_hex_construcao_open_buildings_2023.gpkg\")\n",
    "hex_cnefe = gpd.read_file(\"../../data/hex_agg_cnef_sp.gpkg\")\n",
    "hex_censo = gpd.read_file(\"../../data/generated/WGS84_hex_censo_2022.gpkg\")\n",
    "#hex_favelas = gpd.read_file(\"../../data/WGS84_hex_favelas.gpkg\")\n",
    "hex_fcu = gpd.read_file(\"../../data/generated/WGS84_hex_fcu.gpkg\")\n",
    "\n",
    "hex_osm = gpd.read_file(\"../../data/generated/WGS84_hex_sp_osm.gpkg\")\n",
    "hex_declividade = gpd.read_file(\"../../data/raw/WGS84_hex_declividade_sp.gpkg\")\n"
   ]
  },
  {
   "cell_type": "code",
   "execution_count": 76,
   "metadata": {},
   "outputs": [
    {
     "data": {
      "text/html": [
       "<div>\n",
       "<style scoped>\n",
       "    .dataframe tbody tr th:only-of-type {\n",
       "        vertical-align: middle;\n",
       "    }\n",
       "\n",
       "    .dataframe tbody tr th {\n",
       "        vertical-align: top;\n",
       "    }\n",
       "\n",
       "    .dataframe thead th {\n",
       "        text-align: right;\n",
       "    }\n",
       "</style>\n",
       "<table border=\"1\" class=\"dataframe\">\n",
       "  <thead>\n",
       "    <tr style=\"text-align: right;\">\n",
       "      <th></th>\n",
       "      <th>id_hex</th>\n",
       "      <th>domicilios_agua_rede_geral_n_sum</th>\n",
       "      <th>domicilios_esgoto_rede_geral_n_sum</th>\n",
       "      <th>domicilios_lixo_coletado_n_sum</th>\n",
       "      <th>domicilios_n_sum</th>\n",
       "      <th>area_poly_urbano_sum</th>\n",
       "      <th>area_poly_rural_sum</th>\n",
       "      <th>Households connected to water supply network (%)</th>\n",
       "      <th>Households connected to sewerage system (%)</th>\n",
       "      <th>Households solid waste collection (%)</th>\n",
       "      <th>geometry</th>\n",
       "    </tr>\n",
       "  </thead>\n",
       "  <tbody>\n",
       "    <tr>\n",
       "      <th>0</th>\n",
       "      <td>8aa8100c3257fff</td>\n",
       "      <td>86.0</td>\n",
       "      <td>86.0</td>\n",
       "      <td>86.0</td>\n",
       "      <td>86.0</td>\n",
       "      <td>18000.0</td>\n",
       "      <td>0.0</td>\n",
       "      <td>1.000000</td>\n",
       "      <td>1.000000</td>\n",
       "      <td>1.000000</td>\n",
       "      <td>POLYGON ((-46.63592 -23.53032, -46.63664 -23.5...</td>\n",
       "    </tr>\n",
       "    <tr>\n",
       "      <th>1</th>\n",
       "      <td>8aa8100d2447fff</td>\n",
       "      <td>112.0</td>\n",
       "      <td>112.0</td>\n",
       "      <td>111.0</td>\n",
       "      <td>112.0</td>\n",
       "      <td>18008.0</td>\n",
       "      <td>0.0</td>\n",
       "      <td>1.000000</td>\n",
       "      <td>1.000000</td>\n",
       "      <td>0.991071</td>\n",
       "      <td>POLYGON ((-46.53650 -23.53972, -46.53722 -23.5...</td>\n",
       "    </tr>\n",
       "    <tr>\n",
       "      <th>2</th>\n",
       "      <td>8aa8100e1637fff</td>\n",
       "      <td>43.0</td>\n",
       "      <td>42.0</td>\n",
       "      <td>42.0</td>\n",
       "      <td>43.0</td>\n",
       "      <td>17996.0</td>\n",
       "      <td>0.0</td>\n",
       "      <td>1.000000</td>\n",
       "      <td>0.976744</td>\n",
       "      <td>0.976744</td>\n",
       "      <td>POLYGON ((-46.66886 -23.59437, -46.66958 -23.5...</td>\n",
       "    </tr>\n",
       "    <tr>\n",
       "      <th>3</th>\n",
       "      <td>8aa8100f0827fff</td>\n",
       "      <td>401.0</td>\n",
       "      <td>385.0</td>\n",
       "      <td>402.0</td>\n",
       "      <td>402.0</td>\n",
       "      <td>17999.0</td>\n",
       "      <td>0.0</td>\n",
       "      <td>0.997512</td>\n",
       "      <td>0.957711</td>\n",
       "      <td>1.000000</td>\n",
       "      <td>POLYGON ((-46.59115 -23.61353, -46.59187 -23.6...</td>\n",
       "    </tr>\n",
       "    <tr>\n",
       "      <th>4</th>\n",
       "      <td>8aa81077552ffff</td>\n",
       "      <td>29.0</td>\n",
       "      <td>26.0</td>\n",
       "      <td>29.0</td>\n",
       "      <td>29.0</td>\n",
       "      <td>18007.0</td>\n",
       "      <td>0.0</td>\n",
       "      <td>1.000000</td>\n",
       "      <td>0.896552</td>\n",
       "      <td>1.000000</td>\n",
       "      <td>POLYGON ((-46.59688 -23.46650, -46.59760 -23.4...</td>\n",
       "    </tr>\n",
       "  </tbody>\n",
       "</table>\n",
       "</div>"
      ],
      "text/plain": [
       "            id_hex  domicilios_agua_rede_geral_n_sum  \\\n",
       "0  8aa8100c3257fff                              86.0   \n",
       "1  8aa8100d2447fff                             112.0   \n",
       "2  8aa8100e1637fff                              43.0   \n",
       "3  8aa8100f0827fff                             401.0   \n",
       "4  8aa81077552ffff                              29.0   \n",
       "\n",
       "   domicilios_esgoto_rede_geral_n_sum  domicilios_lixo_coletado_n_sum  \\\n",
       "0                                86.0                            86.0   \n",
       "1                               112.0                           111.0   \n",
       "2                                42.0                            42.0   \n",
       "3                               385.0                           402.0   \n",
       "4                                26.0                            29.0   \n",
       "\n",
       "   domicilios_n_sum  area_poly_urbano_sum  area_poly_rural_sum  \\\n",
       "0              86.0               18000.0                  0.0   \n",
       "1             112.0               18008.0                  0.0   \n",
       "2              43.0               17996.0                  0.0   \n",
       "3             402.0               17999.0                  0.0   \n",
       "4              29.0               18007.0                  0.0   \n",
       "\n",
       "   Households connected to water supply network (%)  \\\n",
       "0                                          1.000000   \n",
       "1                                          1.000000   \n",
       "2                                          1.000000   \n",
       "3                                          0.997512   \n",
       "4                                          1.000000   \n",
       "\n",
       "   Households connected to sewerage system (%)  \\\n",
       "0                                     1.000000   \n",
       "1                                     1.000000   \n",
       "2                                     0.976744   \n",
       "3                                     0.957711   \n",
       "4                                     0.896552   \n",
       "\n",
       "   Households solid waste collection (%)  \\\n",
       "0                               1.000000   \n",
       "1                               0.991071   \n",
       "2                               0.976744   \n",
       "3                               1.000000   \n",
       "4                               1.000000   \n",
       "\n",
       "                                            geometry  \n",
       "0  POLYGON ((-46.63592 -23.53032, -46.63664 -23.5...  \n",
       "1  POLYGON ((-46.53650 -23.53972, -46.53722 -23.5...  \n",
       "2  POLYGON ((-46.66886 -23.59437, -46.66958 -23.5...  \n",
       "3  POLYGON ((-46.59115 -23.61353, -46.59187 -23.6...  \n",
       "4  POLYGON ((-46.59688 -23.46650, -46.59760 -23.4...  "
      ]
     },
     "execution_count": 76,
     "metadata": {},
     "output_type": "execute_result"
    }
   ],
   "source": [
    "hex_censo.head()"
   ]
  },
  {
   "cell_type": "code",
   "execution_count": 77,
   "metadata": {},
   "outputs": [],
   "source": [
    "def set_default_crs(gdf):\n",
    "    return gdf.to_crs(DEFAULT_CRS)"
   ]
  },
  {
   "cell_type": "code",
   "execution_count": 78,
   "metadata": {},
   "outputs": [],
   "source": [
    "# renaming some columns\n",
    "hex_cnefe.rename(columns={'esp_1': 'Number of private residences'}, inplace=True) #TODO rename in the hex agreggation file \n",
    "\n",
    "\n",
    "hex_declividade.rename(columns={'DCL_mean': 'Average slope'}, inplace=True)"
   ]
  },
  {
   "cell_type": "code",
   "execution_count": 86,
   "metadata": {},
   "outputs": [],
   "source": [
    "hex_iptu = set_default_crs(hex_iptu)\n",
    "hex_contruco = set_default_crs(hex_contruco)\n",
    "hex_cnefe = set_default_crs(hex_cnefe)\n",
    "hex_census = set_default_crs(hex_censo)\n",
    "hex_osm = set_default_crs(hex_osm)\n",
    "hex_declividade = set_default_crs(hex_declividade)"
   ]
  },
  {
   "cell_type": "code",
   "execution_count": 87,
   "metadata": {},
   "outputs": [
    {
     "name": "stdout",
     "output_type": "stream",
     "text": [
      "(54855, 11)\n",
      "(105505, 31)\n"
     ]
    }
   ],
   "source": [
    "print(hex_census.shape)\n",
    "print(hex_cnefe.shape)"
   ]
  },
  {
   "cell_type": "markdown",
   "metadata": {},
   "source": [
    "# Agrupando arquivos"
   ]
  },
  {
   "cell_type": "code",
   "execution_count": 88,
   "metadata": {},
   "outputs": [],
   "source": [
    "hex_f = hex_censo[['id_hex', 'Households connected to water supply network (%)', 'Households connected to sewerage system (%)', 'Households solid waste collection (%)']].join(hex_iptu.set_index(\"id_hex\"), how='left', on='id_hex')\n",
    "hex_f = hex_f.join(hex_cnefe[['id_hex', 'Number of private residences']].set_index(\"id_hex\"), how='left', on='id_hex')\n",
    "hex_f = hex_f.join(hex_fcu[['id_hex', 'is_fcu', 'prop_ocupado']].set_index(\"id_hex\"), how='left', on='id_hex')\n",
    "hex_f = hex_f.join(hex_osm.drop(['geometry'], axis=1).set_index(\"id_hex\"), how='left', on='id_hex')\n",
    "hex_f = hex_f.join(hex_declividade.drop(['geometry'], axis=1).set_index(\"id_hex\"), how='left', on='id_hex')\n",
    "hex_f = hex_f.join(hex_contruco.drop(['geometry'], axis=1).set_index(\"id_hex\"), how='left', on='id_hex')\n",
    "\n"
   ]
  },
  {
   "cell_type": "markdown",
   "metadata": {},
   "source": [
    "# Transformações finais\n",
    "- fill all nan"
   ]
  },
  {
   "cell_type": "code",
   "execution_count": 82,
   "metadata": {},
   "outputs": [],
   "source": [
    "#hex_f[\"hex_fid\"] = hex_f[\"fid\"].astype(int) #geopandas as a bug with fid https://github.com/geopandas/geopandas/issues/1035\n",
    "#hex_f.drop(\"fid\", inplace=True, axis=1)"
   ]
  },
  {
   "cell_type": "code",
   "execution_count": 89,
   "metadata": {},
   "outputs": [],
   "source": [
    "hex_f.fillna(0, inplace=True)"
   ]
  },
  {
   "cell_type": "code",
   "execution_count": 90,
   "metadata": {},
   "outputs": [
    {
     "data": {
      "text/html": [
       "<div>\n",
       "<style scoped>\n",
       "    .dataframe tbody tr th:only-of-type {\n",
       "        vertical-align: middle;\n",
       "    }\n",
       "\n",
       "    .dataframe tbody tr th {\n",
       "        vertical-align: top;\n",
       "    }\n",
       "\n",
       "    .dataframe thead th {\n",
       "        text-align: right;\n",
       "    }\n",
       "</style>\n",
       "<table border=\"1\" class=\"dataframe\">\n",
       "  <thead>\n",
       "    <tr style=\"text-align: right;\">\n",
       "      <th></th>\n",
       "      <th>id_hex</th>\n",
       "      <th>Households connected to water supply network (%)</th>\n",
       "      <th>Households connected to sewerage system (%)</th>\n",
       "      <th>Households solid waste collection (%)</th>\n",
       "      <th>qnt_unidades_residencias_sum</th>\n",
       "      <th>qnt_unidades_residencias_mean</th>\n",
       "      <th>qnt_unidades_residencias_median</th>\n",
       "      <th>qnt_unidades_residencias_std</th>\n",
       "      <th>qnt_unidades_residencias_var</th>\n",
       "      <th>geometry</th>\n",
       "      <th>...</th>\n",
       "      <th>DCL_median</th>\n",
       "      <th>DCL_stdev</th>\n",
       "      <th>area_sum</th>\n",
       "      <th>Average building area</th>\n",
       "      <th>area_median</th>\n",
       "      <th>Standard deviation of building area</th>\n",
       "      <th>area_var</th>\n",
       "      <th>Number of buildings areas</th>\n",
       "      <th>area_hex</th>\n",
       "      <th>area_const</th>\n",
       "    </tr>\n",
       "  </thead>\n",
       "  <tbody>\n",
       "    <tr>\n",
       "      <th>35491</th>\n",
       "      <td>8aa8100c0747fff</td>\n",
       "      <td>0.999219</td>\n",
       "      <td>1.0</td>\n",
       "      <td>0.997658</td>\n",
       "      <td>1503.0</td>\n",
       "      <td>46.966267</td>\n",
       "      <td>18.007929</td>\n",
       "      <td>58.99313</td>\n",
       "      <td>3480.189412</td>\n",
       "      <td>POLYGON ((-46.62875 -23.55391, -46.62947 -23.5...</td>\n",
       "      <td>...</td>\n",
       "      <td>15.794018</td>\n",
       "      <td>3.530481</td>\n",
       "      <td>6456.330991</td>\n",
       "      <td>94.946044</td>\n",
       "      <td>75.439379</td>\n",
       "      <td>88.322568</td>\n",
       "      <td>7800.87604</td>\n",
       "      <td>68.0</td>\n",
       "      <td>18001.957827</td>\n",
       "      <td>0.358646</td>\n",
       "    </tr>\n",
       "  </tbody>\n",
       "</table>\n",
       "<p>1 rows × 32 columns</p>\n",
       "</div>"
      ],
      "text/plain": [
       "                id_hex  Households connected to water supply network (%)  \\\n",
       "35491  8aa8100c0747fff                                          0.999219   \n",
       "\n",
       "       Households connected to sewerage system (%)  \\\n",
       "35491                                          1.0   \n",
       "\n",
       "       Households solid waste collection (%)  qnt_unidades_residencias_sum  \\\n",
       "35491                               0.997658                        1503.0   \n",
       "\n",
       "       qnt_unidades_residencias_mean  qnt_unidades_residencias_median  \\\n",
       "35491                      46.966267                        18.007929   \n",
       "\n",
       "       qnt_unidades_residencias_std  qnt_unidades_residencias_var  \\\n",
       "35491                      58.99313                   3480.189412   \n",
       "\n",
       "                                                geometry  ...  DCL_median  \\\n",
       "35491  POLYGON ((-46.62875 -23.55391, -46.62947 -23.5...  ...   15.794018   \n",
       "\n",
       "       DCL_stdev     area_sum  Average building area  area_median  \\\n",
       "35491   3.530481  6456.330991              94.946044    75.439379   \n",
       "\n",
       "       Standard deviation of building area    area_var  \\\n",
       "35491                            88.322568  7800.87604   \n",
       "\n",
       "       Number of buildings areas      area_hex  area_const  \n",
       "35491                       68.0  18001.957827    0.358646  \n",
       "\n",
       "[1 rows x 32 columns]"
      ]
     },
     "execution_count": 90,
     "metadata": {},
     "output_type": "execute_result"
    }
   ],
   "source": [
    "hex_f[hex_f['id_hex'] == '8aa8100c0747fff']"
   ]
  },
  {
   "cell_type": "code",
   "execution_count": null,
   "metadata": {},
   "outputs": [],
   "source": []
  },
  {
   "cell_type": "code",
   "execution_count": 91,
   "metadata": {},
   "outputs": [],
   "source": [
    "hex_f = gpd.GeoDataFrame(hex_f, crs=DEFAULT_CRS, geometry=hex_f['geometry'])"
   ]
  },
  {
   "cell_type": "code",
   "execution_count": 92,
   "metadata": {},
   "outputs": [],
   "source": [
    "hex_f.to_file(\"../../data/generate/WGS84_hex_sp_agg_2022.gpkg\", driver=\"GPKG\")"
   ]
  },
  {
   "cell_type": "code",
   "execution_count": null,
   "metadata": {},
   "outputs": [],
   "source": []
  }
 ],
 "metadata": {
  "kernelspec": {
   "display_name": "scriptsMestrado",
   "language": "python",
   "name": "python3"
  },
  "language_info": {
   "codemirror_mode": {
    "name": "ipython",
    "version": 3
   },
   "file_extension": ".py",
   "mimetype": "text/x-python",
   "name": "python",
   "nbconvert_exporter": "python",
   "pygments_lexer": "ipython3",
   "version": "3.12.4"
  }
 },
 "nbformat": 4,
 "nbformat_minor": 2
}
