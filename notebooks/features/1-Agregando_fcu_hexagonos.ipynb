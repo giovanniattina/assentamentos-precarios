{
 "cells": [
  {
   "cell_type": "code",
   "execution_count": 1,
   "metadata": {},
   "outputs": [],
   "source": [
    "import geopandas as gpd\n",
    "import pandas as pd"
   ]
  },
  {
   "cell_type": "code",
   "execution_count": 2,
   "metadata": {},
   "outputs": [],
   "source": [
    "DEFAULT_CRS = \"EPSG:4326\""
   ]
  },
  {
   "cell_type": "code",
   "execution_count": 4,
   "metadata": {},
   "outputs": [],
   "source": [
    "fcu_gpd = gpd.read_file(\"../../data/raw/poligonos_FCUs_shp\")"
   ]
  },
  {
   "cell_type": "code",
   "execution_count": 5,
   "metadata": {},
   "outputs": [
    {
     "data": {
      "text/html": [
       "<div>\n",
       "<style scoped>\n",
       "    .dataframe tbody tr th:only-of-type {\n",
       "        vertical-align: middle;\n",
       "    }\n",
       "\n",
       "    .dataframe tbody tr th {\n",
       "        vertical-align: top;\n",
       "    }\n",
       "\n",
       "    .dataframe thead th {\n",
       "        text-align: right;\n",
       "    }\n",
       "</style>\n",
       "<table border=\"1\" class=\"dataframe\">\n",
       "  <thead>\n",
       "    <tr style=\"text-align: right;\">\n",
       "      <th></th>\n",
       "      <th>cd_fcu</th>\n",
       "      <th>nm_fcu</th>\n",
       "      <th>cd_uf</th>\n",
       "      <th>nm_uf</th>\n",
       "      <th>sigla_uf</th>\n",
       "      <th>cd_mun</th>\n",
       "      <th>nm_mun</th>\n",
       "      <th>geometry</th>\n",
       "    </tr>\n",
       "  </thead>\n",
       "  <tbody>\n",
       "    <tr>\n",
       "      <th>0</th>\n",
       "      <td>35503080069</td>\n",
       "      <td>Jardim Miliunas</td>\n",
       "      <td>35</td>\n",
       "      <td>São Paulo</td>\n",
       "      <td>SP</td>\n",
       "      <td>3550308</td>\n",
       "      <td>São Paulo</td>\n",
       "      <td>POLYGON ((-46.37112 -23.50000, -46.37141 -23.5...</td>\n",
       "    </tr>\n",
       "    <tr>\n",
       "      <th>1</th>\n",
       "      <td>42024040016</td>\n",
       "      <td>Rua Araranguá</td>\n",
       "      <td>42</td>\n",
       "      <td>Santa Catarina</td>\n",
       "      <td>SC</td>\n",
       "      <td>4202404</td>\n",
       "      <td>Blumenau</td>\n",
       "      <td>POLYGON ((-49.05007 -26.93529, -49.05009 -26.9...</td>\n",
       "    </tr>\n",
       "    <tr>\n",
       "      <th>2</th>\n",
       "      <td>33045570554</td>\n",
       "      <td>Tiqui</td>\n",
       "      <td>33</td>\n",
       "      <td>Rio de Janeiro</td>\n",
       "      <td>RJ</td>\n",
       "      <td>3304557</td>\n",
       "      <td>Rio de Janeiro</td>\n",
       "      <td>POLYGON ((-43.48263 -22.88870, -43.48252 -22.8...</td>\n",
       "    </tr>\n",
       "    <tr>\n",
       "      <th>3</th>\n",
       "      <td>33045570104</td>\n",
       "      <td>Parque Nossa Senhora da Penha</td>\n",
       "      <td>33</td>\n",
       "      <td>Rio de Janeiro</td>\n",
       "      <td>RJ</td>\n",
       "      <td>3304557</td>\n",
       "      <td>Rio de Janeiro</td>\n",
       "      <td>POLYGON ((-43.21664 -22.87497, -43.21662 -22.8...</td>\n",
       "    </tr>\n",
       "    <tr>\n",
       "      <th>4</th>\n",
       "      <td>35095020135</td>\n",
       "      <td>Núcleo Residencial Jardim das Andorinhas II</td>\n",
       "      <td>35</td>\n",
       "      <td>São Paulo</td>\n",
       "      <td>SP</td>\n",
       "      <td>3509502</td>\n",
       "      <td>Campinas</td>\n",
       "      <td>POLYGON ((-47.01387 -22.91975, -47.01458 -22.9...</td>\n",
       "    </tr>\n",
       "  </tbody>\n",
       "</table>\n",
       "</div>"
      ],
      "text/plain": [
       "        cd_fcu                                       nm_fcu cd_uf  \\\n",
       "0  35503080069                              Jardim Miliunas    35   \n",
       "1  42024040016                                Rua Araranguá    42   \n",
       "2  33045570554                                        Tiqui    33   \n",
       "3  33045570104                Parque Nossa Senhora da Penha    33   \n",
       "4  35095020135  Núcleo Residencial Jardim das Andorinhas II    35   \n",
       "\n",
       "            nm_uf sigla_uf   cd_mun          nm_mun  \\\n",
       "0       São Paulo       SP  3550308       São Paulo   \n",
       "1  Santa Catarina       SC  4202404        Blumenau   \n",
       "2  Rio de Janeiro       RJ  3304557  Rio de Janeiro   \n",
       "3  Rio de Janeiro       RJ  3304557  Rio de Janeiro   \n",
       "4       São Paulo       SP  3509502        Campinas   \n",
       "\n",
       "                                            geometry  \n",
       "0  POLYGON ((-46.37112 -23.50000, -46.37141 -23.5...  \n",
       "1  POLYGON ((-49.05007 -26.93529, -49.05009 -26.9...  \n",
       "2  POLYGON ((-43.48263 -22.88870, -43.48252 -22.8...  \n",
       "3  POLYGON ((-43.21664 -22.87497, -43.21662 -22.8...  \n",
       "4  POLYGON ((-47.01387 -22.91975, -47.01458 -22.9...  "
      ]
     },
     "execution_count": 5,
     "metadata": {},
     "output_type": "execute_result"
    }
   ],
   "source": [
    "fcu_gpd.head()"
   ]
  },
  {
   "cell_type": "code",
   "execution_count": 8,
   "metadata": {},
   "outputs": [],
   "source": [
    "fcu_gpd_sp = fcu_gpd[fcu_gpd[\"sigla_uf\"] == \"SP\"]"
   ]
  },
  {
   "cell_type": "code",
   "execution_count": 9,
   "metadata": {},
   "outputs": [
    {
     "data": {
      "text/html": [
       "<div>\n",
       "<style scoped>\n",
       "    .dataframe tbody tr th:only-of-type {\n",
       "        vertical-align: middle;\n",
       "    }\n",
       "\n",
       "    .dataframe tbody tr th {\n",
       "        vertical-align: top;\n",
       "    }\n",
       "\n",
       "    .dataframe thead th {\n",
       "        text-align: right;\n",
       "    }\n",
       "</style>\n",
       "<table border=\"1\" class=\"dataframe\">\n",
       "  <thead>\n",
       "    <tr style=\"text-align: right;\">\n",
       "      <th></th>\n",
       "      <th>id_hex</th>\n",
       "      <th>geometry</th>\n",
       "    </tr>\n",
       "  </thead>\n",
       "  <tbody>\n",
       "    <tr>\n",
       "      <th>0</th>\n",
       "      <td>8aa8100c3257fff</td>\n",
       "      <td>POLYGON ((-46.63592 -23.53032, -46.63664 -23.5...</td>\n",
       "    </tr>\n",
       "    <tr>\n",
       "      <th>1</th>\n",
       "      <td>8aa8100d2447fff</td>\n",
       "      <td>POLYGON ((-46.53650 -23.53972, -46.53722 -23.5...</td>\n",
       "    </tr>\n",
       "    <tr>\n",
       "      <th>2</th>\n",
       "      <td>8aa8100e1637fff</td>\n",
       "      <td>POLYGON ((-46.66886 -23.59437, -46.66958 -23.5...</td>\n",
       "    </tr>\n",
       "    <tr>\n",
       "      <th>3</th>\n",
       "      <td>8aa8100f0827fff</td>\n",
       "      <td>POLYGON ((-46.59115 -23.61353, -46.59187 -23.6...</td>\n",
       "    </tr>\n",
       "    <tr>\n",
       "      <th>4</th>\n",
       "      <td>8aa81010ec07fff</td>\n",
       "      <td>POLYGON ((-46.65231 -23.83331, -46.65303 -23.8...</td>\n",
       "    </tr>\n",
       "  </tbody>\n",
       "</table>\n",
       "</div>"
      ],
      "text/plain": [
       "            id_hex                                           geometry\n",
       "0  8aa8100c3257fff  POLYGON ((-46.63592 -23.53032, -46.63664 -23.5...\n",
       "1  8aa8100d2447fff  POLYGON ((-46.53650 -23.53972, -46.53722 -23.5...\n",
       "2  8aa8100e1637fff  POLYGON ((-46.66886 -23.59437, -46.66958 -23.5...\n",
       "3  8aa8100f0827fff  POLYGON ((-46.59115 -23.61353, -46.59187 -23.6...\n",
       "4  8aa81010ec07fff  POLYGON ((-46.65231 -23.83331, -46.65303 -23.8..."
      ]
     },
     "execution_count": 9,
     "metadata": {},
     "output_type": "execute_result"
    }
   ],
   "source": [
    "\n",
    "hex_sp = gpd.read_file(\"../../data/shapeFiles/GRIDS_H3_SP_RES10\") \n",
    "\n",
    "\n",
    "# Transform the CRS to EPSG:31983\n",
    "hex_sp = hex_sp.to_crs(DEFAULT_CRS)\n",
    "hex_sp.head()"
   ]
  },
  {
   "cell_type": "code",
   "execution_count": 10,
   "metadata": {},
   "outputs": [],
   "source": [
    "if fcu_gpd_sp.crs != DEFAULT_CRS:\n",
    "    fcu_gpd_sp = fcu_gpd_sp.to_crs(DEFAULT_CRS)\n",
    "if hex_sp.crs != DEFAULT_CRS:\n",
    "    hex_sp = hex_sp.to_crs(DEFAULT_CRS)"
   ]
  },
  {
   "cell_type": "code",
   "execution_count": 12,
   "metadata": {},
   "outputs": [],
   "source": [
    "fcu_gpd_h3 =  fcu_gpd_sp.overlay(hex_sp[['id_hex', 'geometry']], how='intersection')\n"
   ]
  },
  {
   "cell_type": "code",
   "execution_count": 13,
   "metadata": {},
   "outputs": [
    {
     "data": {
      "text/html": [
       "<div>\n",
       "<style scoped>\n",
       "    .dataframe tbody tr th:only-of-type {\n",
       "        vertical-align: middle;\n",
       "    }\n",
       "\n",
       "    .dataframe tbody tr th {\n",
       "        vertical-align: top;\n",
       "    }\n",
       "\n",
       "    .dataframe thead th {\n",
       "        text-align: right;\n",
       "    }\n",
       "</style>\n",
       "<table border=\"1\" class=\"dataframe\">\n",
       "  <thead>\n",
       "    <tr style=\"text-align: right;\">\n",
       "      <th></th>\n",
       "      <th>cd_fcu</th>\n",
       "      <th>nm_fcu</th>\n",
       "      <th>cd_uf</th>\n",
       "      <th>nm_uf</th>\n",
       "      <th>sigla_uf</th>\n",
       "      <th>cd_mun</th>\n",
       "      <th>nm_mun</th>\n",
       "      <th>id_hex</th>\n",
       "      <th>geometry</th>\n",
       "    </tr>\n",
       "  </thead>\n",
       "  <tbody>\n",
       "    <tr>\n",
       "      <th>0</th>\n",
       "      <td>35503080069</td>\n",
       "      <td>Jardim Miliunas</td>\n",
       "      <td>35</td>\n",
       "      <td>São Paulo</td>\n",
       "      <td>SP</td>\n",
       "      <td>3550308</td>\n",
       "      <td>São Paulo</td>\n",
       "      <td>8aa81044b667fff</td>\n",
       "      <td>POLYGON ((-46.37065 -23.49904, -46.37032 -23.4...</td>\n",
       "    </tr>\n",
       "    <tr>\n",
       "      <th>1</th>\n",
       "      <td>35503080069</td>\n",
       "      <td>Jardim Miliunas</td>\n",
       "      <td>35</td>\n",
       "      <td>São Paulo</td>\n",
       "      <td>SP</td>\n",
       "      <td>3550308</td>\n",
       "      <td>São Paulo</td>\n",
       "      <td>8aa81044b297fff</td>\n",
       "      <td>POLYGON ((-46.37219 -23.49912, -46.37201 -23.4...</td>\n",
       "    </tr>\n",
       "    <tr>\n",
       "      <th>2</th>\n",
       "      <td>35503080069</td>\n",
       "      <td>Jardim Miliunas</td>\n",
       "      <td>35</td>\n",
       "      <td>São Paulo</td>\n",
       "      <td>SP</td>\n",
       "      <td>3550308</td>\n",
       "      <td>São Paulo</td>\n",
       "      <td>8aa81044b747fff</td>\n",
       "      <td>POLYGON ((-46.37017 -23.49990, -46.37043 -23.4...</td>\n",
       "    </tr>\n",
       "    <tr>\n",
       "      <th>3</th>\n",
       "      <td>35503080069</td>\n",
       "      <td>Jardim Miliunas</td>\n",
       "      <td>35</td>\n",
       "      <td>São Paulo</td>\n",
       "      <td>SP</td>\n",
       "      <td>3550308</td>\n",
       "      <td>São Paulo</td>\n",
       "      <td>8aa81044b74ffff</td>\n",
       "      <td>POLYGON ((-46.37132 -23.50007, -46.37160 -23.4...</td>\n",
       "    </tr>\n",
       "    <tr>\n",
       "      <th>4</th>\n",
       "      <td>35503080069</td>\n",
       "      <td>Jardim Miliunas</td>\n",
       "      <td>35</td>\n",
       "      <td>São Paulo</td>\n",
       "      <td>SP</td>\n",
       "      <td>3550308</td>\n",
       "      <td>São Paulo</td>\n",
       "      <td>8aa81044b75ffff</td>\n",
       "      <td>POLYGON ((-46.37015 -23.49910, -46.37015 -23.4...</td>\n",
       "    </tr>\n",
       "  </tbody>\n",
       "</table>\n",
       "</div>"
      ],
      "text/plain": [
       "        cd_fcu           nm_fcu cd_uf      nm_uf sigla_uf   cd_mun     nm_mun  \\\n",
       "0  35503080069  Jardim Miliunas    35  São Paulo       SP  3550308  São Paulo   \n",
       "1  35503080069  Jardim Miliunas    35  São Paulo       SP  3550308  São Paulo   \n",
       "2  35503080069  Jardim Miliunas    35  São Paulo       SP  3550308  São Paulo   \n",
       "3  35503080069  Jardim Miliunas    35  São Paulo       SP  3550308  São Paulo   \n",
       "4  35503080069  Jardim Miliunas    35  São Paulo       SP  3550308  São Paulo   \n",
       "\n",
       "            id_hex                                           geometry  \n",
       "0  8aa81044b667fff  POLYGON ((-46.37065 -23.49904, -46.37032 -23.4...  \n",
       "1  8aa81044b297fff  POLYGON ((-46.37219 -23.49912, -46.37201 -23.4...  \n",
       "2  8aa81044b747fff  POLYGON ((-46.37017 -23.49990, -46.37043 -23.4...  \n",
       "3  8aa81044b74ffff  POLYGON ((-46.37132 -23.50007, -46.37160 -23.4...  \n",
       "4  8aa81044b75ffff  POLYGON ((-46.37015 -23.49910, -46.37015 -23.4...  "
      ]
     },
     "execution_count": 13,
     "metadata": {},
     "output_type": "execute_result"
    }
   ],
   "source": [
    "fcu_gpd_h3.head()"
   ]
  },
  {
   "cell_type": "code",
   "execution_count": 14,
   "metadata": {},
   "outputs": [],
   "source": [
    "fcu_gpd_h3['intersec_geometry'] = fcu_gpd_h3.geometry"
   ]
  },
  {
   "cell_type": "code",
   "execution_count": 20,
   "metadata": {},
   "outputs": [
    {
     "data": {
      "text/html": [
       "<div>\n",
       "<style scoped>\n",
       "    .dataframe tbody tr th:only-of-type {\n",
       "        vertical-align: middle;\n",
       "    }\n",
       "\n",
       "    .dataframe tbody tr th {\n",
       "        vertical-align: top;\n",
       "    }\n",
       "\n",
       "    .dataframe thead th {\n",
       "        text-align: right;\n",
       "    }\n",
       "</style>\n",
       "<table border=\"1\" class=\"dataframe\">\n",
       "  <thead>\n",
       "    <tr style=\"text-align: right;\">\n",
       "      <th></th>\n",
       "      <th>cd_fcu</th>\n",
       "      <th>nm_fcu</th>\n",
       "      <th>cd_uf</th>\n",
       "      <th>nm_uf</th>\n",
       "      <th>sigla_uf</th>\n",
       "      <th>cd_mun</th>\n",
       "      <th>nm_mun</th>\n",
       "      <th>id_hex</th>\n",
       "      <th>geometry</th>\n",
       "      <th>intersec_geometry</th>\n",
       "      <th>area_fcu</th>\n",
       "    </tr>\n",
       "  </thead>\n",
       "  <tbody>\n",
       "    <tr>\n",
       "      <th>8544</th>\n",
       "      <td>35503081142</td>\n",
       "      <td>Totó</td>\n",
       "      <td>35</td>\n",
       "      <td>São Paulo</td>\n",
       "      <td>SP</td>\n",
       "      <td>3550308</td>\n",
       "      <td>São Paulo</td>\n",
       "      <td>8aa81000e687fff</td>\n",
       "      <td>POLYGON ((-46.64720 -23.66696, -46.64698 -23.6...</td>\n",
       "      <td>POLYGON ((-46.64720 -23.66696, -46.64698 -23.6...</td>\n",
       "      <td>8258.899745</td>\n",
       "    </tr>\n",
       "  </tbody>\n",
       "</table>\n",
       "</div>"
      ],
      "text/plain": [
       "           cd_fcu nm_fcu cd_uf      nm_uf sigla_uf   cd_mun     nm_mun  \\\n",
       "8544  35503081142   Totó    35  São Paulo       SP  3550308  São Paulo   \n",
       "\n",
       "               id_hex                                           geometry  \\\n",
       "8544  8aa81000e687fff  POLYGON ((-46.64720 -23.66696, -46.64698 -23.6...   \n",
       "\n",
       "                                      intersec_geometry     area_fcu  \n",
       "8544  POLYGON ((-46.64720 -23.66696, -46.64698 -23.6...  8258.899745  "
      ]
     },
     "execution_count": 20,
     "metadata": {},
     "output_type": "execute_result"
    }
   ],
   "source": [
    "fcu_gpd_h3[fcu_gpd_h3['id_hex'] == '8aa81000e687fff']"
   ]
  },
  {
   "cell_type": "code",
   "execution_count": 17,
   "metadata": {},
   "outputs": [
    {
     "data": {
      "text/html": [
       "<div>\n",
       "<style scoped>\n",
       "    .dataframe tbody tr th:only-of-type {\n",
       "        vertical-align: middle;\n",
       "    }\n",
       "\n",
       "    .dataframe tbody tr th {\n",
       "        vertical-align: top;\n",
       "    }\n",
       "\n",
       "    .dataframe thead th {\n",
       "        text-align: right;\n",
       "    }\n",
       "</style>\n",
       "<table border=\"1\" class=\"dataframe\">\n",
       "  <thead>\n",
       "    <tr style=\"text-align: right;\">\n",
       "      <th></th>\n",
       "      <th>cd_fcu</th>\n",
       "      <th>nm_fcu</th>\n",
       "      <th>cd_uf</th>\n",
       "      <th>nm_uf</th>\n",
       "      <th>sigla_uf</th>\n",
       "      <th>cd_mun</th>\n",
       "      <th>nm_mun</th>\n",
       "      <th>id_hex</th>\n",
       "      <th>geometry</th>\n",
       "      <th>intersec_geometry</th>\n",
       "    </tr>\n",
       "  </thead>\n",
       "  <tbody>\n",
       "    <tr>\n",
       "      <th>8544</th>\n",
       "      <td>35503081142</td>\n",
       "      <td>Totó</td>\n",
       "      <td>35</td>\n",
       "      <td>São Paulo</td>\n",
       "      <td>SP</td>\n",
       "      <td>3550308</td>\n",
       "      <td>São Paulo</td>\n",
       "      <td>8aa81000e687fff</td>\n",
       "      <td>POLYGON ((-46.64720 -23.66696, -46.64698 -23.6...</td>\n",
       "      <td>POLYGON ((-46.64720 -23.66696, -46.64698 -23.6...</td>\n",
       "    </tr>\n",
       "    <tr>\n",
       "      <th>8545</th>\n",
       "      <td>35503081142</td>\n",
       "      <td>Totó</td>\n",
       "      <td>35</td>\n",
       "      <td>São Paulo</td>\n",
       "      <td>SP</td>\n",
       "      <td>3550308</td>\n",
       "      <td>São Paulo</td>\n",
       "      <td>8aa81000e68ffff</td>\n",
       "      <td>POLYGON ((-46.64866 -23.66689, -46.64859 -23.6...</td>\n",
       "      <td>POLYGON ((-46.64866 -23.66689, -46.64859 -23.6...</td>\n",
       "    </tr>\n",
       "    <tr>\n",
       "      <th>8546</th>\n",
       "      <td>35503081142</td>\n",
       "      <td>Totó</td>\n",
       "      <td>35</td>\n",
       "      <td>São Paulo</td>\n",
       "      <td>SP</td>\n",
       "      <td>3550308</td>\n",
       "      <td>São Paulo</td>\n",
       "      <td>8aa81000e69ffff</td>\n",
       "      <td>MULTIPOLYGON (((-46.64700 -23.66693, -46.64698...</td>\n",
       "      <td>MULTIPOLYGON (((-46.64700 -23.66693, -46.64698...</td>\n",
       "    </tr>\n",
       "    <tr>\n",
       "      <th>8547</th>\n",
       "      <td>35503081142</td>\n",
       "      <td>Totó</td>\n",
       "      <td>35</td>\n",
       "      <td>São Paulo</td>\n",
       "      <td>SP</td>\n",
       "      <td>3550308</td>\n",
       "      <td>São Paulo</td>\n",
       "      <td>8aa81000e6affff</td>\n",
       "      <td>POLYGON ((-46.64824 -23.66762, -46.64837 -23.6...</td>\n",
       "      <td>POLYGON ((-46.64824 -23.66762, -46.64837 -23.6...</td>\n",
       "    </tr>\n",
       "  </tbody>\n",
       "</table>\n",
       "</div>"
      ],
      "text/plain": [
       "           cd_fcu nm_fcu cd_uf      nm_uf sigla_uf   cd_mun     nm_mun  \\\n",
       "8544  35503081142   Totó    35  São Paulo       SP  3550308  São Paulo   \n",
       "8545  35503081142   Totó    35  São Paulo       SP  3550308  São Paulo   \n",
       "8546  35503081142   Totó    35  São Paulo       SP  3550308  São Paulo   \n",
       "8547  35503081142   Totó    35  São Paulo       SP  3550308  São Paulo   \n",
       "\n",
       "               id_hex                                           geometry  \\\n",
       "8544  8aa81000e687fff  POLYGON ((-46.64720 -23.66696, -46.64698 -23.6...   \n",
       "8545  8aa81000e68ffff  POLYGON ((-46.64866 -23.66689, -46.64859 -23.6...   \n",
       "8546  8aa81000e69ffff  MULTIPOLYGON (((-46.64700 -23.66693, -46.64698...   \n",
       "8547  8aa81000e6affff  POLYGON ((-46.64824 -23.66762, -46.64837 -23.6...   \n",
       "\n",
       "                                      intersec_geometry  \n",
       "8544  POLYGON ((-46.64720 -23.66696, -46.64698 -23.6...  \n",
       "8545  POLYGON ((-46.64866 -23.66689, -46.64859 -23.6...  \n",
       "8546  MULTIPOLYGON (((-46.64700 -23.66693, -46.64698...  \n",
       "8547  POLYGON ((-46.64824 -23.66762, -46.64837 -23.6...  "
      ]
     },
     "execution_count": 17,
     "metadata": {},
     "output_type": "execute_result"
    }
   ],
   "source": [
    "fcu_gpd_h3[fcu_gpd_h3['cd_fcu'] == '35503081142']"
   ]
  },
  {
   "cell_type": "code",
   "execution_count": 18,
   "metadata": {},
   "outputs": [],
   "source": [
    "fcu_gpd_h3['area_fcu'] = fcu_gpd_h3['intersec_geometry'].to_crs(\"EPSG:5641\").area"
   ]
  },
  {
   "cell_type": "code",
   "execution_count": 25,
   "metadata": {},
   "outputs": [],
   "source": [
    "area_fcu_agg = fcu_gpd_h3.groupby('id_hex')['area_fcu'].sum()\n",
    "area_fcu_agg = area_fcu_agg.reset_index()"
   ]
  },
  {
   "cell_type": "code",
   "execution_count": 27,
   "metadata": {},
   "outputs": [],
   "source": [
    "hex_favelas = hex_sp.join(area_fcu_agg.set_index('id_hex'), how='left', on='id_hex')\n",
    "hex_favelas = gpd.GeoDataFrame(hex_favelas, crs=DEFAULT_CRS, geometry=\"geometry\")"
   ]
  },
  {
   "cell_type": "code",
   "execution_count": 30,
   "metadata": {},
   "outputs": [
    {
     "data": {
      "text/html": [
       "<div>\n",
       "<style scoped>\n",
       "    .dataframe tbody tr th:only-of-type {\n",
       "        vertical-align: middle;\n",
       "    }\n",
       "\n",
       "    .dataframe tbody tr th {\n",
       "        vertical-align: top;\n",
       "    }\n",
       "\n",
       "    .dataframe thead th {\n",
       "        text-align: right;\n",
       "    }\n",
       "</style>\n",
       "<table border=\"1\" class=\"dataframe\">\n",
       "  <thead>\n",
       "    <tr style=\"text-align: right;\">\n",
       "      <th></th>\n",
       "      <th>id_hex</th>\n",
       "      <th>geometry</th>\n",
       "      <th>area_fcu</th>\n",
       "      <th>area_hex</th>\n",
       "      <th>prop_ocupado</th>\n",
       "    </tr>\n",
       "  </thead>\n",
       "  <tbody>\n",
       "    <tr>\n",
       "      <th>0</th>\n",
       "      <td>8aa8100c3257fff</td>\n",
       "      <td>POLYGON ((-46.63592 -23.53032, -46.63664 -23.5...</td>\n",
       "      <td>NaN</td>\n",
       "      <td>18002.590726</td>\n",
       "      <td>NaN</td>\n",
       "    </tr>\n",
       "    <tr>\n",
       "      <th>1</th>\n",
       "      <td>8aa8100d2447fff</td>\n",
       "      <td>POLYGON ((-46.53650 -23.53972, -46.53722 -23.5...</td>\n",
       "      <td>NaN</td>\n",
       "      <td>18009.360752</td>\n",
       "      <td>NaN</td>\n",
       "    </tr>\n",
       "    <tr>\n",
       "      <th>2</th>\n",
       "      <td>8aa8100e1637fff</td>\n",
       "      <td>POLYGON ((-46.66886 -23.59437, -46.66958 -23.5...</td>\n",
       "      <td>NaN</td>\n",
       "      <td>17997.005022</td>\n",
       "      <td>NaN</td>\n",
       "    </tr>\n",
       "    <tr>\n",
       "      <th>3</th>\n",
       "      <td>8aa8100f0827fff</td>\n",
       "      <td>POLYGON ((-46.59115 -23.61353, -46.59187 -23.6...</td>\n",
       "      <td>18001.760632</td>\n",
       "      <td>18001.760632</td>\n",
       "      <td>1.0</td>\n",
       "    </tr>\n",
       "    <tr>\n",
       "      <th>4</th>\n",
       "      <td>8aa81010ec07fff</td>\n",
       "      <td>POLYGON ((-46.65231 -23.83331, -46.65303 -23.8...</td>\n",
       "      <td>NaN</td>\n",
       "      <td>17986.265306</td>\n",
       "      <td>NaN</td>\n",
       "    </tr>\n",
       "  </tbody>\n",
       "</table>\n",
       "</div>"
      ],
      "text/plain": [
       "            id_hex                                           geometry  \\\n",
       "0  8aa8100c3257fff  POLYGON ((-46.63592 -23.53032, -46.63664 -23.5...   \n",
       "1  8aa8100d2447fff  POLYGON ((-46.53650 -23.53972, -46.53722 -23.5...   \n",
       "2  8aa8100e1637fff  POLYGON ((-46.66886 -23.59437, -46.66958 -23.5...   \n",
       "3  8aa8100f0827fff  POLYGON ((-46.59115 -23.61353, -46.59187 -23.6...   \n",
       "4  8aa81010ec07fff  POLYGON ((-46.65231 -23.83331, -46.65303 -23.8...   \n",
       "\n",
       "       area_fcu      area_hex  prop_ocupado  \n",
       "0           NaN  18002.590726           NaN  \n",
       "1           NaN  18009.360752           NaN  \n",
       "2           NaN  17997.005022           NaN  \n",
       "3  18001.760632  18001.760632           1.0  \n",
       "4           NaN  17986.265306           NaN  "
      ]
     },
     "execution_count": 30,
     "metadata": {},
     "output_type": "execute_result"
    }
   ],
   "source": [
    "hex_favelas['area_hex'] = hex_favelas.geometry.to_crs(\"EPSG:5641\").area\n",
    "hex_favelas['prop_ocupado'] = hex_favelas['area_fcu']/hex_favelas['area_hex'] \n",
    "hex_favelas.head()"
   ]
  },
  {
   "cell_type": "code",
   "execution_count": 31,
   "metadata": {},
   "outputs": [
    {
     "data": {
      "text/plain": [
       "<Axes: ylabel='Frequency'>"
      ]
     },
     "execution_count": 31,
     "metadata": {},
     "output_type": "execute_result"
    },
    {
     "data": {
      "image/png": "[encoded data removed]",
      "text/plain": [
       "<Figure size 640x480 with 1 Axes>"
      ]
     },
     "metadata": {},
     "output_type": "display_data"
    }
   ],
   "source": [
    "hex_favelas.plot.hist(column=['prop_ocupado'])"
   ]
  },
  {
   "cell_type": "code",
   "execution_count": 32,
   "metadata": {},
   "outputs": [],
   "source": [
    "hex_favelas['is_fcu'] = hex_favelas['prop_ocupado'] > 0.5"
   ]
  },
  {
   "cell_type": "code",
   "execution_count": 33,
   "metadata": {},
   "outputs": [
    {
     "data": {
      "text/plain": [
       "<Axes: >"
      ]
     },
     "execution_count": 33,
     "metadata": {},
     "output_type": "execute_result"
    },
    {
     "data": {
      "image/png": "[encoded data removed]",
      "text/plain": [
       "<Figure size 640x480 with 1 Axes>"
      ]
     },
     "metadata": {},
     "output_type": "display_data"
    }
   ],
   "source": [
    "hex_favelas.plot(column='is_fcu', label=True)"
   ]
  },
  {
   "cell_type": "code",
   "execution_count": 36,
   "metadata": {},
   "outputs": [],
   "source": [
    "hex_favelas.to_file(\"../../data/generated/WGS84_hex_fcu.gpkg\", driver=\"GPKG\")\n"
   ]
  }
 ],
 "metadata": {
  "kernelspec": {
   "display_name": "scriptsMestrado",
   "language": "python",
   "name": "python3"
  },
  "language_info": {
   "codemirror_mode": {
    "name": "ipython",
    "version": 3
   },
   "file_extension": ".py",
   "mimetype": "text/x-python",
   "name": "python",
   "nbconvert_exporter": "python",
   "pygments_lexer": "ipython3",
   "version": "3.12.4"
  }
 },
 "nbformat": 4,
 "nbformat_minor": 2
}
