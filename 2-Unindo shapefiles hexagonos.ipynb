{
 "cells": [
  {
   "cell_type": "code",
   "execution_count": 1,
   "metadata": {},
   "outputs": [],
   "source": [
    "import geopandas as gpd\n"
   ]
  },
  {
   "cell_type": "code",
   "execution_count": 2,
   "metadata": {},
   "outputs": [],
   "source": [
    "DEFAULT_CRS = \"EPSG:4326\""
   ]
  },
  {
   "cell_type": "markdown",
   "metadata": {},
   "source": [
    "# lendos shapefiles\n",
    "\n"
   ]
  },
  {
   "cell_type": "code",
   "execution_count": 9,
   "metadata": {},
   "outputs": [],
   "source": [
    "hex_iptu = gpd.read_file(\"data/WGS84_hex_iptu.gpkg\")\n",
    "hex_contruco = gpd.read_file(\"data/WGS84_hex_construcao_open_buildings_2023.gpkg\")\n",
    "hex_cnefe = gpd.read_file(\"data/hex_agg_cnef_sp.gpkg\")\n",
    "hex_census = gpd.read_file(\"data/WGS84_hex_census_2010.gpkg\")\n"
   ]
  },
  {
   "cell_type": "code",
   "execution_count": 10,
   "metadata": {},
   "outputs": [
    {
     "data": {
      "text/html": [
       "<div>\n",
       "<style scoped>\n",
       "    .dataframe tbody tr th:only-of-type {\n",
       "        vertical-align: middle;\n",
       "    }\n",
       "\n",
       "    .dataframe tbody tr th {\n",
       "        vertical-align: top;\n",
       "    }\n",
       "\n",
       "    .dataframe thead th {\n",
       "        text-align: right;\n",
       "    }\n",
       "</style>\n",
       "<table border=\"1\" class=\"dataframe\">\n",
       "  <thead>\n",
       "    <tr style=\"text-align: right;\">\n",
       "      <th></th>\n",
       "      <th>id_hex</th>\n",
       "      <th>D1_012_d_sum</th>\n",
       "      <th>D1_017_d_sum</th>\n",
       "      <th>D1_035_d_sum</th>\n",
       "      <th>D1_044_d_sum</th>\n",
       "      <th>geometry</th>\n",
       "    </tr>\n",
       "  </thead>\n",
       "  <tbody>\n",
       "    <tr>\n",
       "      <th>0</th>\n",
       "      <td>8aa8100c3257fff</td>\n",
       "      <td>122.0</td>\n",
       "      <td>122.0</td>\n",
       "      <td>122.0</td>\n",
       "      <td>122.0</td>\n",
       "      <td>POLYGON ((-46.63592 -23.53032, -46.63664 -23.5...</td>\n",
       "    </tr>\n",
       "    <tr>\n",
       "      <th>1</th>\n",
       "      <td>8aa8100d2447fff</td>\n",
       "      <td>97.0</td>\n",
       "      <td>97.0</td>\n",
       "      <td>97.0</td>\n",
       "      <td>96.0</td>\n",
       "      <td>POLYGON ((-46.53650 -23.53972, -46.53722 -23.5...</td>\n",
       "    </tr>\n",
       "    <tr>\n",
       "      <th>2</th>\n",
       "      <td>8aa8100e1637fff</td>\n",
       "      <td>64.0</td>\n",
       "      <td>64.0</td>\n",
       "      <td>64.0</td>\n",
       "      <td>64.0</td>\n",
       "      <td>POLYGON ((-46.66886 -23.59437, -46.66958 -23.5...</td>\n",
       "    </tr>\n",
       "    <tr>\n",
       "      <th>3</th>\n",
       "      <td>8aa8100f0827fff</td>\n",
       "      <td>249.0</td>\n",
       "      <td>248.0</td>\n",
       "      <td>249.0</td>\n",
       "      <td>248.0</td>\n",
       "      <td>POLYGON ((-46.59115 -23.61353, -46.59187 -23.6...</td>\n",
       "    </tr>\n",
       "    <tr>\n",
       "      <th>4</th>\n",
       "      <td>8aa81010ec07fff</td>\n",
       "      <td>0.0</td>\n",
       "      <td>0.0</td>\n",
       "      <td>0.0</td>\n",
       "      <td>0.0</td>\n",
       "      <td>POLYGON ((-46.65231 -23.83331, -46.65303 -23.8...</td>\n",
       "    </tr>\n",
       "  </tbody>\n",
       "</table>\n",
       "</div>"
      ],
      "text/plain": [
       "            id_hex  D1_012_d_sum  D1_017_d_sum  D1_035_d_sum  D1_044_d_sum  \\\n",
       "0  8aa8100c3257fff         122.0         122.0         122.0         122.0   \n",
       "1  8aa8100d2447fff          97.0          97.0          97.0          96.0   \n",
       "2  8aa8100e1637fff          64.0          64.0          64.0          64.0   \n",
       "3  8aa8100f0827fff         249.0         248.0         249.0         248.0   \n",
       "4  8aa81010ec07fff           0.0           0.0           0.0           0.0   \n",
       "\n",
       "                                            geometry  \n",
       "0  POLYGON ((-46.63592 -23.53032, -46.63664 -23.5...  \n",
       "1  POLYGON ((-46.53650 -23.53972, -46.53722 -23.5...  \n",
       "2  POLYGON ((-46.66886 -23.59437, -46.66958 -23.5...  \n",
       "3  POLYGON ((-46.59115 -23.61353, -46.59187 -23.6...  \n",
       "4  POLYGON ((-46.65231 -23.83331, -46.65303 -23.8...  "
      ]
     },
     "execution_count": 10,
     "metadata": {},
     "output_type": "execute_result"
    }
   ],
   "source": [
    "hex_census.head()"
   ]
  },
  {
   "cell_type": "code",
   "execution_count": 6,
   "metadata": {},
   "outputs": [],
   "source": [
    "def set_default_crs(gdf):\n",
    "    return gdf.to_crs(DEFAULT_CRS)"
   ]
  },
  {
   "cell_type": "code",
   "execution_count": 11,
   "metadata": {},
   "outputs": [],
   "source": [
    "hex_iptu = set_default_crs(hex_iptu)\n",
    "hex_contruco = set_default_crs(hex_contruco)\n",
    "hex_cnefe = set_default_crs(hex_cnefe)\n",
    "hex_census = set_default_crs(hex_census)\n"
   ]
  },
  {
   "cell_type": "markdown",
   "metadata": {},
   "source": [
    "# Agrupando arquivos"
   ]
  },
  {
   "cell_type": "code",
   "execution_count": 12,
   "metadata": {},
   "outputs": [],
   "source": [
    "\n",
    "hex_f = hex_iptu.join(hex_contruco[['id_hex', 'area_sum', 'area_mean', 'area_median', 'area_std', 'area_var', 'area_count', 'area_const']].set_index(\"id_hex\"), how='left', on='id_hex')\n",
    "hex_f = hex_f.join(hex_cnefe[['id_hex', 'esp_1', 'esp_sum']].set_index(\"id_hex\"), how='left', on='id_hex')\n",
    "hex_f = hex_f.join(hex_census[['id_hex', 'D1_012_d_sum', 'D1_017_d_sum', 'D1_035_d_sum', 'D1_044_d_sum']].set_index(\"id_hex\"), how='left', on='id_hex')\n",
    "\n",
    "\n"
   ]
  },
  {
   "cell_type": "code",
   "execution_count": 13,
   "metadata": {},
   "outputs": [
    {
     "data": {
      "text/html": [
       "<div>\n",
       "<style scoped>\n",
       "    .dataframe tbody tr th:only-of-type {\n",
       "        vertical-align: middle;\n",
       "    }\n",
       "\n",
       "    .dataframe tbody tr th {\n",
       "        vertical-align: top;\n",
       "    }\n",
       "\n",
       "    .dataframe thead th {\n",
       "        text-align: right;\n",
       "    }\n",
       "</style>\n",
       "<table border=\"1\" class=\"dataframe\">\n",
       "  <thead>\n",
       "    <tr style=\"text-align: right;\">\n",
       "      <th></th>\n",
       "      <th>id_hex</th>\n",
       "      <th>n_lancamentos</th>\n",
       "      <th>geometry</th>\n",
       "      <th>area_sum</th>\n",
       "      <th>area_mean</th>\n",
       "      <th>area_median</th>\n",
       "      <th>area_std</th>\n",
       "      <th>area_var</th>\n",
       "      <th>area_count</th>\n",
       "      <th>area_const</th>\n",
       "      <th>esp_1</th>\n",
       "      <th>esp_sum</th>\n",
       "      <th>D1_012_d_sum</th>\n",
       "      <th>D1_017_d_sum</th>\n",
       "      <th>D1_035_d_sum</th>\n",
       "      <th>D1_044_d_sum</th>\n",
       "    </tr>\n",
       "  </thead>\n",
       "  <tbody>\n",
       "    <tr>\n",
       "      <th>0</th>\n",
       "      <td>8aa8100c3257fff</td>\n",
       "      <td>NaN</td>\n",
       "      <td>POLYGON ((-46.63592 -23.53032, -46.63664 -23.5...</td>\n",
       "      <td>9316.314802</td>\n",
       "      <td>147.878013</td>\n",
       "      <td>90.353599</td>\n",
       "      <td>156.286531</td>\n",
       "      <td>24425.479717</td>\n",
       "      <td>63.0</td>\n",
       "      <td>0.517499</td>\n",
       "      <td>114.0</td>\n",
       "      <td>203.0</td>\n",
       "      <td>122.0</td>\n",
       "      <td>122.0</td>\n",
       "      <td>122.0</td>\n",
       "      <td>122.0</td>\n",
       "    </tr>\n",
       "    <tr>\n",
       "      <th>1</th>\n",
       "      <td>8aa8100d2447fff</td>\n",
       "      <td>10234.0</td>\n",
       "      <td>POLYGON ((-46.53650 -23.53972, -46.53722 -23.5...</td>\n",
       "      <td>8329.150087</td>\n",
       "      <td>80.865535</td>\n",
       "      <td>61.867680</td>\n",
       "      <td>70.215211</td>\n",
       "      <td>4930.175810</td>\n",
       "      <td>103.0</td>\n",
       "      <td>0.462490</td>\n",
       "      <td>157.0</td>\n",
       "      <td>167.0</td>\n",
       "      <td>97.0</td>\n",
       "      <td>97.0</td>\n",
       "      <td>97.0</td>\n",
       "      <td>96.0</td>\n",
       "    </tr>\n",
       "    <tr>\n",
       "      <th>2</th>\n",
       "      <td>8aa8100e1637fff</td>\n",
       "      <td>64736.0</td>\n",
       "      <td>POLYGON ((-46.66886 -23.59437, -46.66958 -23.5...</td>\n",
       "      <td>2348.146472</td>\n",
       "      <td>90.313326</td>\n",
       "      <td>71.872491</td>\n",
       "      <td>74.175720</td>\n",
       "      <td>5502.037442</td>\n",
       "      <td>26.0</td>\n",
       "      <td>0.130474</td>\n",
       "      <td>70.0</td>\n",
       "      <td>82.0</td>\n",
       "      <td>64.0</td>\n",
       "      <td>64.0</td>\n",
       "      <td>64.0</td>\n",
       "      <td>64.0</td>\n",
       "    </tr>\n",
       "    <tr>\n",
       "      <th>3</th>\n",
       "      <td>8aa8100f0827fff</td>\n",
       "      <td>NaN</td>\n",
       "      <td>POLYGON ((-46.59115 -23.61353, -46.59187 -23.6...</td>\n",
       "      <td>10516.949009</td>\n",
       "      <td>60.442236</td>\n",
       "      <td>46.407855</td>\n",
       "      <td>54.715864</td>\n",
       "      <td>2993.825762</td>\n",
       "      <td>174.0</td>\n",
       "      <td>0.584218</td>\n",
       "      <td>471.0</td>\n",
       "      <td>521.0</td>\n",
       "      <td>249.0</td>\n",
       "      <td>248.0</td>\n",
       "      <td>249.0</td>\n",
       "      <td>248.0</td>\n",
       "    </tr>\n",
       "    <tr>\n",
       "      <th>4</th>\n",
       "      <td>8aa81010ec07fff</td>\n",
       "      <td>8.0</td>\n",
       "      <td>POLYGON ((-46.65231 -23.83331, -46.65303 -23.8...</td>\n",
       "      <td>0.000000</td>\n",
       "      <td>0.000000</td>\n",
       "      <td>0.000000</td>\n",
       "      <td>0.000000</td>\n",
       "      <td>0.000000</td>\n",
       "      <td>0.0</td>\n",
       "      <td>0.000000</td>\n",
       "      <td>NaN</td>\n",
       "      <td>NaN</td>\n",
       "      <td>0.0</td>\n",
       "      <td>0.0</td>\n",
       "      <td>0.0</td>\n",
       "      <td>0.0</td>\n",
       "    </tr>\n",
       "  </tbody>\n",
       "</table>\n",
       "</div>"
      ],
      "text/plain": [
       "            id_hex  n_lancamentos  \\\n",
       "0  8aa8100c3257fff            NaN   \n",
       "1  8aa8100d2447fff        10234.0   \n",
       "2  8aa8100e1637fff        64736.0   \n",
       "3  8aa8100f0827fff            NaN   \n",
       "4  8aa81010ec07fff            8.0   \n",
       "\n",
       "                                            geometry      area_sum  \\\n",
       "0  POLYGON ((-46.63592 -23.53032, -46.63664 -23.5...   9316.314802   \n",
       "1  POLYGON ((-46.53650 -23.53972, -46.53722 -23.5...   8329.150087   \n",
       "2  POLYGON ((-46.66886 -23.59437, -46.66958 -23.5...   2348.146472   \n",
       "3  POLYGON ((-46.59115 -23.61353, -46.59187 -23.6...  10516.949009   \n",
       "4  POLYGON ((-46.65231 -23.83331, -46.65303 -23.8...      0.000000   \n",
       "\n",
       "    area_mean  area_median    area_std      area_var  area_count  area_const  \\\n",
       "0  147.878013    90.353599  156.286531  24425.479717        63.0    0.517499   \n",
       "1   80.865535    61.867680   70.215211   4930.175810       103.0    0.462490   \n",
       "2   90.313326    71.872491   74.175720   5502.037442        26.0    0.130474   \n",
       "3   60.442236    46.407855   54.715864   2993.825762       174.0    0.584218   \n",
       "4    0.000000     0.000000    0.000000      0.000000         0.0    0.000000   \n",
       "\n",
       "   esp_1  esp_sum  D1_012_d_sum  D1_017_d_sum  D1_035_d_sum  D1_044_d_sum  \n",
       "0  114.0    203.0         122.0         122.0         122.0         122.0  \n",
       "1  157.0    167.0          97.0          97.0          97.0          96.0  \n",
       "2   70.0     82.0          64.0          64.0          64.0          64.0  \n",
       "3  471.0    521.0         249.0         248.0         249.0         248.0  \n",
       "4    NaN      NaN           0.0           0.0           0.0           0.0  "
      ]
     },
     "execution_count": 13,
     "metadata": {},
     "output_type": "execute_result"
    }
   ],
   "source": [
    "hex_f.head()"
   ]
  },
  {
   "cell_type": "markdown",
   "metadata": {},
   "source": [
    "# Transformações finais\n",
    "- fill all nan"
   ]
  },
  {
   "cell_type": "code",
   "execution_count": 28,
   "metadata": {},
   "outputs": [],
   "source": [
    "hex_f[\"hex_fid\"] = hex_f[\"fid\"].astype(int) #geopandas as a bug with fid https://github.com/geopandas/geopandas/issues/1035\n",
    "hex_f.drop(\"fid\", inplace=True, axis=1)"
   ]
  },
  {
   "cell_type": "code",
   "execution_count": 14,
   "metadata": {},
   "outputs": [],
   "source": [
    "hex_f.fillna(0, inplace=True)"
   ]
  },
  {
   "cell_type": "code",
   "execution_count": 16,
   "metadata": {},
   "outputs": [],
   "source": [
    "hex_f.to_file(\"data/WGS84_hex_agg.gpkg\", driver=\"GPKG\")"
   ]
  }
 ],
 "metadata": {
  "kernelspec": {
   "display_name": "scriptsMestrado",
   "language": "python",
   "name": "python3"
  },
  "language_info": {
   "codemirror_mode": {
    "name": "ipython",
    "version": 3
   },
   "file_extension": ".py",
   "mimetype": "text/x-python",
   "name": "python",
   "nbconvert_exporter": "python",
   "pygments_lexer": "ipython3",
   "version": "3.12.4"
  }
 },
 "nbformat": 4,
 "nbformat_minor": 2
}
